{
 "cells": [
  {
   "cell_type": "markdown",
   "metadata": {},
   "source": [
    "# Help Me Fly\n",
    "\n",
    "### Based on the Skytrax reviews (www.airlinequality.com) of American Airlines, Delta Airlines and United Airlines that I've just scraped, help me choose how I should fly.\n",
    "\n",
    "**This exam is open-ended. Feel free to use your creativity. You may treat it as if you were a marketing analyst or a service consultant for these airlines.**"
   ]
  },
  {
   "cell_type": "markdown",
   "metadata": {},
   "source": [
    "#### Part 1: Understand the data\n",
    "\n",
    "- Load the data file \"Midterm Data.xlsx\" - there are 3 tabs/sheets, each for one airline\n",
    "- You may choose to deal with NA any way you want but 'state' your assumptions clearly\n"
   ]
  },
  {
   "cell_type": "markdown",
   "metadata": {},
   "source": [
    "### Importing Pandas and Data"
   ]
  },
  {
   "cell_type": "code",
   "execution_count": 1,
   "metadata": {},
   "outputs": [],
   "source": [
    "import pandas as pd   #Import pandas\n",
    "xls = pd.ExcelFile('Midterm Data.xlsx')   #Import data file into variable xls\n",
    "dfU = pd.read_excel(xls, 'United')   #Load sheets from excel file into individual dataframes\n",
    "dfA = pd.read_excel(xls, 'American')\n",
    "dfD = pd.read_excel(xls, 'Delta')"
   ]
  },
  {
   "cell_type": "markdown",
   "metadata": {},
   "source": [
    "### United Airlines NaN Check"
   ]
  },
  {
   "cell_type": "code",
   "execution_count": 2,
   "metadata": {},
   "outputs": [
    {
     "data": {
      "text/plain": [
       "Airline                   False\n",
       "Cabin Flown                True\n",
       "Type of Traveller          True\n",
       "Date Flown                 True\n",
       "Cabin Staff Service       False\n",
       "Food & Beverages          False\n",
       "Ground Service            False\n",
       "Inflight Entertainment    False\n",
       "Rating                    False\n",
       "Value for Money           False\n",
       "Seat Comfort              False\n",
       "Recommended               False\n",
       "dtype: bool"
      ]
     },
     "execution_count": 2,
     "metadata": {},
     "output_type": "execute_result"
    }
   ],
   "source": [
    "dfU.isna().any()   #NaN check in dataframes for each airline"
   ]
  },
  {
   "cell_type": "markdown",
   "metadata": {},
   "source": [
    "### American Airlines NaN Check"
   ]
  },
  {
   "cell_type": "code",
   "execution_count": 3,
   "metadata": {},
   "outputs": [
    {
     "data": {
      "text/plain": [
       "Airline                   False\n",
       "Cabin Flown                True\n",
       "Type of Traveller          True\n",
       "Date Flown                 True\n",
       "Cabin Staff Service       False\n",
       "Food & Beverages          False\n",
       "Ground Service            False\n",
       "Inflight Entertainment    False\n",
       "Rating                    False\n",
       "Value for Money           False\n",
       "Seat Comfort              False\n",
       "Recommended               False\n",
       "dtype: bool"
      ]
     },
     "execution_count": 3,
     "metadata": {},
     "output_type": "execute_result"
    }
   ],
   "source": [
    "dfA.isna().any()   #NaN check in dataframes for each airline"
   ]
  },
  {
   "cell_type": "markdown",
   "metadata": {},
   "source": [
    "### Delta Airlines NaN Check"
   ]
  },
  {
   "cell_type": "code",
   "execution_count": 4,
   "metadata": {},
   "outputs": [
    {
     "data": {
      "text/plain": [
       "Airline                   False\n",
       "Cabin Flown                True\n",
       "Type of Traveller          True\n",
       "Date Flown                 True\n",
       "Cabin Staff Service       False\n",
       "Food & Beverages          False\n",
       "Ground Service            False\n",
       "Inflight Entertainment    False\n",
       "Rating                    False\n",
       "Value for Money           False\n",
       "Seat Comfort              False\n",
       "Recommended               False\n",
       "dtype: bool"
      ]
     },
     "execution_count": 4,
     "metadata": {},
     "output_type": "execute_result"
    }
   ],
   "source": [
    "dfD.isna().any()   #NaN check in dataframes for each airline"
   ]
  },
  {
   "cell_type": "markdown",
   "metadata": {},
   "source": [
    "### Correcting NaN and Other Issues"
   ]
  },
  {
   "cell_type": "code",
   "execution_count": 5,
   "metadata": {},
   "outputs": [],
   "source": [
    "values = {'Cabin Flown': 'Unknown', 'Type of Traveller': 'Unknown', 'Date Flown': 'Unknown'}\n",
    "dfU = dfU.fillna(value=values)   #Fill NaN values with new category 'Unknown'\n",
    "dfA = dfA.fillna(value=values)\n",
    "dfD = dfD.fillna(value=values)"
   ]
  },
  {
   "cell_type": "code",
   "execution_count": 6,
   "metadata": {},
   "outputs": [],
   "source": [
    "dfA = dfA[dfA.Rating != 'na']   #Removes a few rows with Rating values of 'na' (5 rows lost)\n",
    "dfD = dfD[dfD.Rating != 'na']   #Removes rows with Rating values of 'na' (80 rows lost)\n",
    "\n",
    "dfA = dfA.infer_objects()   #Converts Rating column to an Int64 type\n",
    "dfD = dfD.infer_objects()   #Converts Rating column to an Int64 type"
   ]
  },
  {
   "cell_type": "markdown",
   "metadata": {},
   "source": [
    "###### Na values were found in columns 'Cabin Flown,' 'Type of Traveller,' and 'Date Flown' for all three airlines."
   ]
  },
  {
   "cell_type": "markdown",
   "metadata": {},
   "source": [
    "###### Dropping these Na results in a sizeable amount of data lost, so it was not the option selected."
   ]
  },
  {
   "cell_type": "markdown",
   "metadata": {},
   "source": [
    "###### Because the Na values are categorical, I've opted to include them in a new category - Unknown."
   ]
  },
  {
   "cell_type": "markdown",
   "metadata": {},
   "source": [
    "###### For American and Delta, string values were found in column 'Rating.' These rows were removed."
   ]
  },
  {
   "cell_type": "markdown",
   "metadata": {},
   "source": [
    "- Perform preliminary statistical analyses to generate stylized facts to help me understand the data\n",
    "- Use visualization tools discussed in this class to help me see trends and/or patterns in the data"
   ]
  },
  {
   "cell_type": "markdown",
   "metadata": {},
   "source": [
    "### United Airlines Preliminary Analysis"
   ]
  },
  {
   "cell_type": "code",
   "execution_count": 7,
   "metadata": {},
   "outputs": [],
   "source": [
    "dfU.plot(kind='density');"
   ]
  },
  {
   "cell_type": "code",
   "execution_count": 8,
   "metadata": {},
   "outputs": [
    {
     "data": {
      "text/html": [
       "<div>\n",
       "<style scoped>\n",
       "    .dataframe tbody tr th:only-of-type {\n",
       "        vertical-align: middle;\n",
       "    }\n",
       "\n",
       "    .dataframe tbody tr th {\n",
       "        vertical-align: top;\n",
       "    }\n",
       "\n",
       "    .dataframe thead th {\n",
       "        text-align: right;\n",
       "    }\n",
       "</style>\n",
       "<table border=\"1\" class=\"dataframe\">\n",
       "  <thead>\n",
       "    <tr style=\"text-align: right;\">\n",
       "      <th></th>\n",
       "      <th>Cabin Staff Service</th>\n",
       "      <th>Food &amp; Beverages</th>\n",
       "      <th>Ground Service</th>\n",
       "      <th>Inflight Entertainment</th>\n",
       "      <th>Rating</th>\n",
       "      <th>Value for Money</th>\n",
       "      <th>Seat Comfort</th>\n",
       "      <th>Recommended</th>\n",
       "    </tr>\n",
       "  </thead>\n",
       "  <tbody>\n",
       "    <tr>\n",
       "      <th>count</th>\n",
       "      <td>1570.00000</td>\n",
       "      <td>1570.000000</td>\n",
       "      <td>1570.000000</td>\n",
       "      <td>1570.000000</td>\n",
       "      <td>1570.000000</td>\n",
       "      <td>1570.000000</td>\n",
       "      <td>1570.000000</td>\n",
       "      <td>1570.000000</td>\n",
       "    </tr>\n",
       "    <tr>\n",
       "      <th>mean</th>\n",
       "      <td>2.50828</td>\n",
       "      <td>1.860510</td>\n",
       "      <td>1.491720</td>\n",
       "      <td>1.749682</td>\n",
       "      <td>3.375796</td>\n",
       "      <td>2.193631</td>\n",
       "      <td>2.349682</td>\n",
       "      <td>0.256688</td>\n",
       "    </tr>\n",
       "    <tr>\n",
       "      <th>std</th>\n",
       "      <td>1.49279</td>\n",
       "      <td>1.415216</td>\n",
       "      <td>1.556334</td>\n",
       "      <td>1.562104</td>\n",
       "      <td>3.068818</td>\n",
       "      <td>1.430599</td>\n",
       "      <td>1.360703</td>\n",
       "      <td>0.436945</td>\n",
       "    </tr>\n",
       "    <tr>\n",
       "      <th>min</th>\n",
       "      <td>0.00000</td>\n",
       "      <td>0.000000</td>\n",
       "      <td>0.000000</td>\n",
       "      <td>0.000000</td>\n",
       "      <td>1.000000</td>\n",
       "      <td>0.000000</td>\n",
       "      <td>0.000000</td>\n",
       "      <td>0.000000</td>\n",
       "    </tr>\n",
       "    <tr>\n",
       "      <th>25%</th>\n",
       "      <td>1.00000</td>\n",
       "      <td>1.000000</td>\n",
       "      <td>0.000000</td>\n",
       "      <td>1.000000</td>\n",
       "      <td>1.000000</td>\n",
       "      <td>1.000000</td>\n",
       "      <td>1.000000</td>\n",
       "      <td>0.000000</td>\n",
       "    </tr>\n",
       "    <tr>\n",
       "      <th>50%</th>\n",
       "      <td>2.00000</td>\n",
       "      <td>1.000000</td>\n",
       "      <td>1.000000</td>\n",
       "      <td>1.000000</td>\n",
       "      <td>2.000000</td>\n",
       "      <td>2.000000</td>\n",
       "      <td>2.000000</td>\n",
       "      <td>0.000000</td>\n",
       "    </tr>\n",
       "    <tr>\n",
       "      <th>75%</th>\n",
       "      <td>4.00000</td>\n",
       "      <td>3.000000</td>\n",
       "      <td>2.000000</td>\n",
       "      <td>3.000000</td>\n",
       "      <td>6.000000</td>\n",
       "      <td>3.000000</td>\n",
       "      <td>3.000000</td>\n",
       "      <td>1.000000</td>\n",
       "    </tr>\n",
       "    <tr>\n",
       "      <th>max</th>\n",
       "      <td>5.00000</td>\n",
       "      <td>5.000000</td>\n",
       "      <td>5.000000</td>\n",
       "      <td>5.000000</td>\n",
       "      <td>10.000000</td>\n",
       "      <td>5.000000</td>\n",
       "      <td>5.000000</td>\n",
       "      <td>1.000000</td>\n",
       "    </tr>\n",
       "  </tbody>\n",
       "</table>\n",
       "</div>"
      ],
      "text/plain": [
       "       Cabin Staff Service  Food & Beverages  Ground Service  \\\n",
       "count           1570.00000       1570.000000     1570.000000   \n",
       "mean               2.50828          1.860510        1.491720   \n",
       "std                1.49279          1.415216        1.556334   \n",
       "min                0.00000          0.000000        0.000000   \n",
       "25%                1.00000          1.000000        0.000000   \n",
       "50%                2.00000          1.000000        1.000000   \n",
       "75%                4.00000          3.000000        2.000000   \n",
       "max                5.00000          5.000000        5.000000   \n",
       "\n",
       "       Inflight Entertainment       Rating  Value for Money  Seat Comfort  \\\n",
       "count             1570.000000  1570.000000      1570.000000   1570.000000   \n",
       "mean                 1.749682     3.375796         2.193631      2.349682   \n",
       "std                  1.562104     3.068818         1.430599      1.360703   \n",
       "min                  0.000000     1.000000         0.000000      0.000000   \n",
       "25%                  1.000000     1.000000         1.000000      1.000000   \n",
       "50%                  1.000000     2.000000         2.000000      2.000000   \n",
       "75%                  3.000000     6.000000         3.000000      3.000000   \n",
       "max                  5.000000    10.000000         5.000000      5.000000   \n",
       "\n",
       "       Recommended  \n",
       "count  1570.000000  \n",
       "mean      0.256688  \n",
       "std       0.436945  \n",
       "min       0.000000  \n",
       "25%       0.000000  \n",
       "50%       0.000000  \n",
       "75%       1.000000  \n",
       "max       1.000000  "
      ]
     },
     "execution_count": 8,
     "metadata": {},
     "output_type": "execute_result"
    }
   ],
   "source": [
    "dfU.describe()"
   ]
  },
  {
   "cell_type": "markdown",
   "metadata": {},
   "source": [
    "### American Airlines Preliminary Analysis"
   ]
  },
  {
   "cell_type": "code",
   "execution_count": 9,
   "metadata": {},
   "outputs": [
    {
     "data": {
      "image/png": "[encoded data removed]",
      "text/plain": [
       "<Figure size 432x288 with 1 Axes>"
      ]
     },
     "metadata": {},
     "output_type": "display_data"
    }
   ],
   "source": [
    "dfA.plot(kind='density');"
   ]
  },
  {
   "cell_type": "code",
   "execution_count": 10,
   "metadata": {},
   "outputs": [
    {
     "data": {
      "text/html": [
       "<div>\n",
       "<style scoped>\n",
       "    .dataframe tbody tr th:only-of-type {\n",
       "        vertical-align: middle;\n",
       "    }\n",
       "\n",
       "    .dataframe tbody tr th {\n",
       "        vertical-align: top;\n",
       "    }\n",
       "\n",
       "    .dataframe thead th {\n",
       "        text-align: right;\n",
       "    }\n",
       "</style>\n",
       "<table border=\"1\" class=\"dataframe\">\n",
       "  <thead>\n",
       "    <tr style=\"text-align: right;\">\n",
       "      <th></th>\n",
       "      <th>Cabin Staff Service</th>\n",
       "      <th>Food &amp; Beverages</th>\n",
       "      <th>Ground Service</th>\n",
       "      <th>Inflight Entertainment</th>\n",
       "      <th>Rating</th>\n",
       "      <th>Value for Money</th>\n",
       "      <th>Seat Comfort</th>\n",
       "      <th>Recommended</th>\n",
       "    </tr>\n",
       "  </thead>\n",
       "  <tbody>\n",
       "    <tr>\n",
       "      <th>count</th>\n",
       "      <td>1686.000000</td>\n",
       "      <td>1686.000000</td>\n",
       "      <td>1686.000000</td>\n",
       "      <td>1686.000000</td>\n",
       "      <td>1686.000000</td>\n",
       "      <td>1686.000000</td>\n",
       "      <td>1686.000000</td>\n",
       "      <td>1686.000000</td>\n",
       "    </tr>\n",
       "    <tr>\n",
       "      <th>mean</th>\n",
       "      <td>2.409253</td>\n",
       "      <td>1.836299</td>\n",
       "      <td>1.325623</td>\n",
       "      <td>1.566429</td>\n",
       "      <td>3.250890</td>\n",
       "      <td>2.151246</td>\n",
       "      <td>2.320878</td>\n",
       "      <td>0.252076</td>\n",
       "    </tr>\n",
       "    <tr>\n",
       "      <th>std</th>\n",
       "      <td>1.513072</td>\n",
       "      <td>1.447974</td>\n",
       "      <td>1.449493</td>\n",
       "      <td>1.491034</td>\n",
       "      <td>3.011637</td>\n",
       "      <td>1.438849</td>\n",
       "      <td>1.398050</td>\n",
       "      <td>0.434333</td>\n",
       "    </tr>\n",
       "    <tr>\n",
       "      <th>min</th>\n",
       "      <td>0.000000</td>\n",
       "      <td>0.000000</td>\n",
       "      <td>0.000000</td>\n",
       "      <td>0.000000</td>\n",
       "      <td>1.000000</td>\n",
       "      <td>1.000000</td>\n",
       "      <td>0.000000</td>\n",
       "      <td>0.000000</td>\n",
       "    </tr>\n",
       "    <tr>\n",
       "      <th>25%</th>\n",
       "      <td>1.000000</td>\n",
       "      <td>1.000000</td>\n",
       "      <td>0.000000</td>\n",
       "      <td>1.000000</td>\n",
       "      <td>1.000000</td>\n",
       "      <td>1.000000</td>\n",
       "      <td>1.000000</td>\n",
       "      <td>0.000000</td>\n",
       "    </tr>\n",
       "    <tr>\n",
       "      <th>50%</th>\n",
       "      <td>2.000000</td>\n",
       "      <td>1.000000</td>\n",
       "      <td>1.000000</td>\n",
       "      <td>1.000000</td>\n",
       "      <td>2.000000</td>\n",
       "      <td>1.000000</td>\n",
       "      <td>2.000000</td>\n",
       "      <td>0.000000</td>\n",
       "    </tr>\n",
       "    <tr>\n",
       "      <th>75%</th>\n",
       "      <td>4.000000</td>\n",
       "      <td>3.000000</td>\n",
       "      <td>2.000000</td>\n",
       "      <td>2.000000</td>\n",
       "      <td>5.000000</td>\n",
       "      <td>3.000000</td>\n",
       "      <td>3.000000</td>\n",
       "      <td>1.000000</td>\n",
       "    </tr>\n",
       "    <tr>\n",
       "      <th>max</th>\n",
       "      <td>5.000000</td>\n",
       "      <td>5.000000</td>\n",
       "      <td>5.000000</td>\n",
       "      <td>5.000000</td>\n",
       "      <td>10.000000</td>\n",
       "      <td>5.000000</td>\n",
       "      <td>5.000000</td>\n",
       "      <td>1.000000</td>\n",
       "    </tr>\n",
       "  </tbody>\n",
       "</table>\n",
       "</div>"
      ],
      "text/plain": [
       "       Cabin Staff Service  Food & Beverages  Ground Service  \\\n",
       "count          1686.000000       1686.000000     1686.000000   \n",
       "mean              2.409253          1.836299        1.325623   \n",
       "std               1.513072          1.447974        1.449493   \n",
       "min               0.000000          0.000000        0.000000   \n",
       "25%               1.000000          1.000000        0.000000   \n",
       "50%               2.000000          1.000000        1.000000   \n",
       "75%               4.000000          3.000000        2.000000   \n",
       "max               5.000000          5.000000        5.000000   \n",
       "\n",
       "       Inflight Entertainment       Rating  Value for Money  Seat Comfort  \\\n",
       "count             1686.000000  1686.000000      1686.000000   1686.000000   \n",
       "mean                 1.566429     3.250890         2.151246      2.320878   \n",
       "std                  1.491034     3.011637         1.438849      1.398050   \n",
       "min                  0.000000     1.000000         1.000000      0.000000   \n",
       "25%                  1.000000     1.000000         1.000000      1.000000   \n",
       "50%                  1.000000     2.000000         1.000000      2.000000   \n",
       "75%                  2.000000     5.000000         3.000000      3.000000   \n",
       "max                  5.000000    10.000000         5.000000      5.000000   \n",
       "\n",
       "       Recommended  \n",
       "count  1686.000000  \n",
       "mean      0.252076  \n",
       "std       0.434333  \n",
       "min       0.000000  \n",
       "25%       0.000000  \n",
       "50%       0.000000  \n",
       "75%       1.000000  \n",
       "max       1.000000  "
      ]
     },
     "execution_count": 10,
     "metadata": {},
     "output_type": "execute_result"
    }
   ],
   "source": [
    "dfA.describe()"
   ]
  },
  {
   "cell_type": "markdown",
   "metadata": {},
   "source": [
    "### Delta Airlines Preliminary Analysis"
   ]
  },
  {
   "cell_type": "code",
   "execution_count": 11,
   "metadata": {},
   "outputs": [
    {
     "data": {
      "image/png": "[encoded data removed]",
      "text/plain": [
       "<Figure size 432x288 with 1 Axes>"
      ]
     },
     "metadata": {},
     "output_type": "display_data"
    }
   ],
   "source": [
    "dfD.plot(kind='density');"
   ]
  },
  {
   "cell_type": "code",
   "execution_count": 12,
   "metadata": {},
   "outputs": [
    {
     "data": {
      "text/html": [
       "<div>\n",
       "<style scoped>\n",
       "    .dataframe tbody tr th:only-of-type {\n",
       "        vertical-align: middle;\n",
       "    }\n",
       "\n",
       "    .dataframe tbody tr th {\n",
       "        vertical-align: top;\n",
       "    }\n",
       "\n",
       "    .dataframe thead th {\n",
       "        text-align: right;\n",
       "    }\n",
       "</style>\n",
       "<table border=\"1\" class=\"dataframe\">\n",
       "  <thead>\n",
       "    <tr style=\"text-align: right;\">\n",
       "      <th></th>\n",
       "      <th>Cabin Staff Service</th>\n",
       "      <th>Food &amp; Beverages</th>\n",
       "      <th>Ground Service</th>\n",
       "      <th>Inflight Entertainment</th>\n",
       "      <th>Rating</th>\n",
       "      <th>Value for Money</th>\n",
       "      <th>Seat Comfort</th>\n",
       "      <th>Recommended</th>\n",
       "    </tr>\n",
       "  </thead>\n",
       "  <tbody>\n",
       "    <tr>\n",
       "      <th>count</th>\n",
       "      <td>960.000000</td>\n",
       "      <td>960.000000</td>\n",
       "      <td>960.000000</td>\n",
       "      <td>960.000000</td>\n",
       "      <td>960.000000</td>\n",
       "      <td>960.000000</td>\n",
       "      <td>960.000000</td>\n",
       "      <td>960.000000</td>\n",
       "    </tr>\n",
       "    <tr>\n",
       "      <th>mean</th>\n",
       "      <td>3.366667</td>\n",
       "      <td>2.611458</td>\n",
       "      <td>1.838542</td>\n",
       "      <td>2.398958</td>\n",
       "      <td>5.276042</td>\n",
       "      <td>2.962500</td>\n",
       "      <td>3.044792</td>\n",
       "      <td>0.508333</td>\n",
       "    </tr>\n",
       "    <tr>\n",
       "      <th>std</th>\n",
       "      <td>1.525225</td>\n",
       "      <td>1.690331</td>\n",
       "      <td>1.893949</td>\n",
       "      <td>1.920799</td>\n",
       "      <td>3.501802</td>\n",
       "      <td>1.574249</td>\n",
       "      <td>1.407960</td>\n",
       "      <td>0.500191</td>\n",
       "    </tr>\n",
       "    <tr>\n",
       "      <th>min</th>\n",
       "      <td>0.000000</td>\n",
       "      <td>0.000000</td>\n",
       "      <td>0.000000</td>\n",
       "      <td>0.000000</td>\n",
       "      <td>1.000000</td>\n",
       "      <td>0.000000</td>\n",
       "      <td>0.000000</td>\n",
       "      <td>0.000000</td>\n",
       "    </tr>\n",
       "    <tr>\n",
       "      <th>25%</th>\n",
       "      <td>2.000000</td>\n",
       "      <td>1.000000</td>\n",
       "      <td>0.000000</td>\n",
       "      <td>0.000000</td>\n",
       "      <td>1.750000</td>\n",
       "      <td>1.000000</td>\n",
       "      <td>2.000000</td>\n",
       "      <td>0.000000</td>\n",
       "    </tr>\n",
       "    <tr>\n",
       "      <th>50%</th>\n",
       "      <td>4.000000</td>\n",
       "      <td>3.000000</td>\n",
       "      <td>1.000000</td>\n",
       "      <td>2.000000</td>\n",
       "      <td>5.000000</td>\n",
       "      <td>3.000000</td>\n",
       "      <td>3.000000</td>\n",
       "      <td>1.000000</td>\n",
       "    </tr>\n",
       "    <tr>\n",
       "      <th>75%</th>\n",
       "      <td>5.000000</td>\n",
       "      <td>4.000000</td>\n",
       "      <td>4.000000</td>\n",
       "      <td>4.000000</td>\n",
       "      <td>9.000000</td>\n",
       "      <td>4.000000</td>\n",
       "      <td>4.000000</td>\n",
       "      <td>1.000000</td>\n",
       "    </tr>\n",
       "    <tr>\n",
       "      <th>max</th>\n",
       "      <td>5.000000</td>\n",
       "      <td>5.000000</td>\n",
       "      <td>5.000000</td>\n",
       "      <td>5.000000</td>\n",
       "      <td>10.000000</td>\n",
       "      <td>5.000000</td>\n",
       "      <td>5.000000</td>\n",
       "      <td>1.000000</td>\n",
       "    </tr>\n",
       "  </tbody>\n",
       "</table>\n",
       "</div>"
      ],
      "text/plain": [
       "       Cabin Staff Service  Food & Beverages  Ground Service  \\\n",
       "count           960.000000        960.000000      960.000000   \n",
       "mean              3.366667          2.611458        1.838542   \n",
       "std               1.525225          1.690331        1.893949   \n",
       "min               0.000000          0.000000        0.000000   \n",
       "25%               2.000000          1.000000        0.000000   \n",
       "50%               4.000000          3.000000        1.000000   \n",
       "75%               5.000000          4.000000        4.000000   \n",
       "max               5.000000          5.000000        5.000000   \n",
       "\n",
       "       Inflight Entertainment      Rating  Value for Money  Seat Comfort  \\\n",
       "count              960.000000  960.000000       960.000000    960.000000   \n",
       "mean                 2.398958    5.276042         2.962500      3.044792   \n",
       "std                  1.920799    3.501802         1.574249      1.407960   \n",
       "min                  0.000000    1.000000         0.000000      0.000000   \n",
       "25%                  0.000000    1.750000         1.000000      2.000000   \n",
       "50%                  2.000000    5.000000         3.000000      3.000000   \n",
       "75%                  4.000000    9.000000         4.000000      4.000000   \n",
       "max                  5.000000   10.000000         5.000000      5.000000   \n",
       "\n",
       "       Recommended  \n",
       "count   960.000000  \n",
       "mean      0.508333  \n",
       "std       0.500191  \n",
       "min       0.000000  \n",
       "25%       0.000000  \n",
       "50%       1.000000  \n",
       "75%       1.000000  \n",
       "max       1.000000  "
      ]
     },
     "execution_count": 12,
     "metadata": {},
     "output_type": "execute_result"
    }
   ],
   "source": [
    "dfD.describe()"
   ]
  },
  {
   "cell_type": "markdown",
   "metadata": {},
   "source": [
    "- Do you think the type of traveller influence the reviews and recommendations?"
   ]
  },
  {
   "cell_type": "markdown",
   "metadata": {},
   "source": [
    "### United Airlines - Type of Traveller"
   ]
  },
  {
   "cell_type": "markdown",
   "metadata": {},
   "source": [
    "##### Reviews (An average of 'Cabin Staff Service,' 'Food & Beverages,' 'Ground Service,' and more)"
   ]
  },
  {
   "cell_type": "code",
   "execution_count": 13,
   "metadata": {
    "scrolled": true
   },
   "outputs": [
    {
     "data": {
      "text/plain": [
       "Type of Traveller\n",
       "Business          1.855556\n",
       "Couple Leisure    2.077684\n",
       "Family Leisure    2.009760\n",
       "Solo Leisure      2.251302\n",
       "Unknown           1.913593\n",
       "dtype: float64"
      ]
     },
     "execution_count": 13,
     "metadata": {},
     "output_type": "execute_result"
    }
   ],
   "source": [
    "dfU_TT_Review = dfU.drop(['Rating', 'Recommended'], axis=1)   #Exclude 'Rating' and 'Recommended' as they are out of 10 and 1, respectively\n",
    "dfU_TT_Review.groupby('Type of Traveller').mean().transpose().mean()   #Returns the mean review of all categories by traveller type"
   ]
  },
  {
   "cell_type": "markdown",
   "metadata": {},
   "source": [
    "##### Ratings"
   ]
  },
  {
   "cell_type": "code",
   "execution_count": 14,
   "metadata": {},
   "outputs": [
    {
     "data": {
      "text/plain": [
       "Type of Traveller\n",
       "Business          2.762500\n",
       "Couple Leisure    3.203390\n",
       "Family Leisure    3.099099\n",
       "Solo Leisure      3.882812\n",
       "Unknown           3.487705\n",
       "dtype: float64"
      ]
     },
     "execution_count": 14,
     "metadata": {},
     "output_type": "execute_result"
    }
   ],
   "source": [
    "dfU_TT_Rating = dfU[['Type of Traveller', 'Rating']]   #Get only rating\n",
    "dfU_TT_Rating.groupby('Type of Traveller').mean().transpose().mean()   #Returns the mean rating of all categories by traveller type"
   ]
  },
  {
   "cell_type": "markdown",
   "metadata": {},
   "source": [
    "##### Recommended"
   ]
  },
  {
   "cell_type": "code",
   "execution_count": 15,
   "metadata": {},
   "outputs": [
    {
     "data": {
      "text/plain": [
       "Type of Traveller\n",
       "Business          0.175000\n",
       "Couple Leisure    0.241525\n",
       "Family Leisure    0.225225\n",
       "Solo Leisure      0.338542\n",
       "Unknown           0.254098\n",
       "dtype: float64"
      ]
     },
     "execution_count": 15,
     "metadata": {},
     "output_type": "execute_result"
    }
   ],
   "source": [
    "dfU_TT_Recommended = dfU[['Type of Traveller', 'Recommended']]   #Get only recommended\n",
    "dfU_TT_Recommended.groupby('Type of Traveller').mean().transpose().mean()   #Returns the mean rating of all categories by traveller type"
   ]
  },
  {
   "cell_type": "markdown",
   "metadata": {},
   "source": [
    "###### Business travellers appear to consistently rate a bit lower than other travellers, whereas Solo Leisure travellers consistently rate a bit higher than other travellers."
   ]
  },
  {
   "cell_type": "markdown",
   "metadata": {},
   "source": [
    "###### Yes, the type of traveller does appear to influence the reviews and recommendations."
   ]
  },
  {
   "cell_type": "markdown",
   "metadata": {},
   "source": [
    "### American Airlines - Type of Traveller"
   ]
  },
  {
   "cell_type": "markdown",
   "metadata": {},
   "source": [
    "##### Reviews (An average of 'Cabin Staff Service,' 'Food & Beverages,' 'Ground Service,' and more)"
   ]
  },
  {
   "cell_type": "code",
   "execution_count": 16,
   "metadata": {},
   "outputs": [
    {
     "data": {
      "text/plain": [
       "Type of Traveller\n",
       "Business          2.029785\n",
       "Couple Leisure    1.845805\n",
       "Family Leisure    1.731209\n",
       "Solo Leisure      2.037553\n",
       "Unknown           1.939308\n",
       "dtype: float64"
      ]
     },
     "execution_count": 16,
     "metadata": {},
     "output_type": "execute_result"
    }
   ],
   "source": [
    "dfA_TT_Review = dfA.drop(['Rating', 'Recommended'], axis=1)   #Exclude 'Rating' and 'Recommended' as they are out of 10 and 1, respectively\n",
    "dfA_TT_Review.groupby('Type of Traveller').mean().transpose().mean()   #Gets the mean review of all categories by traveller type"
   ]
  },
  {
   "cell_type": "markdown",
   "metadata": {},
   "source": [
    "##### Ratings"
   ]
  },
  {
   "cell_type": "code",
   "execution_count": 17,
   "metadata": {},
   "outputs": [
    {
     "data": {
      "text/plain": [
       "Type of Traveller\n",
       "Business          3.239544\n",
       "Couple Leisure    2.840136\n",
       "Family Leisure    2.500000\n",
       "Solo Leisure      3.293671\n",
       "Unknown           3.741509\n",
       "dtype: float64"
      ]
     },
     "execution_count": 17,
     "metadata": {},
     "output_type": "execute_result"
    }
   ],
   "source": [
    "dfA_TT_Rating = dfA[['Type of Traveller', 'Rating']]   #Get only 'Rating'\n",
    "dfA_TT_Rating.groupby('Type of Traveller').mean().transpose().mean()   #Gets the mean rating of all categories by traveller type"
   ]
  },
  {
   "cell_type": "markdown",
   "metadata": {},
   "source": [
    "##### Recommended"
   ]
  },
  {
   "cell_type": "code",
   "execution_count": 18,
   "metadata": {},
   "outputs": [
    {
     "data": {
      "text/plain": [
       "Type of Traveller\n",
       "Business          0.250951\n",
       "Couple Leisure    0.173469\n",
       "Family Leisure    0.147059\n",
       "Solo Leisure      0.275949\n",
       "Unknown           0.318868\n",
       "dtype: float64"
      ]
     },
     "execution_count": 18,
     "metadata": {},
     "output_type": "execute_result"
    }
   ],
   "source": [
    "dfA_TT_Recommended = dfA[['Type of Traveller', 'Recommended']]   #Get only recommended\n",
    "dfA_TT_Recommended.groupby('Type of Traveller').mean().transpose().mean()   #Gets the mean rating of all categories by traveller type"
   ]
  },
  {
   "cell_type": "markdown",
   "metadata": {},
   "source": [
    "###### Couple Leisure and Family Leisure travellers appear to consistently rate a bit lower than other travellers. Business and Solo Leisure consistently rate a bit higher than other travellers."
   ]
  },
  {
   "cell_type": "markdown",
   "metadata": {},
   "source": [
    "###### Yes, the type of traveller does appear to influence the reviews and recommendations."
   ]
  },
  {
   "cell_type": "markdown",
   "metadata": {},
   "source": [
    "### Delta Airlines - Type of Traveller"
   ]
  },
  {
   "cell_type": "markdown",
   "metadata": {},
   "source": [
    "##### Reviews (An average of 'Cabin Staff Service,' 'Food & Beverages,' 'Ground Service,' and more)"
   ]
  },
  {
   "cell_type": "code",
   "execution_count": 19,
   "metadata": {},
   "outputs": [
    {
     "data": {
      "text/plain": [
       "Type of Traveller\n",
       "Business          2.549731\n",
       "Couple Leisure    2.585921\n",
       "Family Leisure    2.756236\n",
       "Solo Leisure      2.726431\n",
       "Unknown           2.782323\n",
       "dtype: float64"
      ]
     },
     "execution_count": 19,
     "metadata": {},
     "output_type": "execute_result"
    }
   ],
   "source": [
    "dfD_TT_Review = dfD.drop(['Rating', 'Recommended'], axis=1)   #Exclude 'Rating' and 'Recommended' as they are out of 10 and 1, respectively\n",
    "dfD_TT_Review.groupby('Type of Traveller').mean().transpose().mean()   #Gets the mean review of all categories by traveller type"
   ]
  },
  {
   "cell_type": "markdown",
   "metadata": {},
   "source": [
    "##### Ratings"
   ]
  },
  {
   "cell_type": "code",
   "execution_count": 20,
   "metadata": {},
   "outputs": [
    {
     "data": {
      "text/plain": [
       "Type of Traveller\n",
       "Business          4.370968\n",
       "Couple Leisure    4.459627\n",
       "Family Leisure    4.612245\n",
       "Solo Leisure      5.282828\n",
       "Unknown           6.306061\n",
       "dtype: float64"
      ]
     },
     "execution_count": 20,
     "metadata": {},
     "output_type": "execute_result"
    }
   ],
   "source": [
    "dfD_TT_Rating = dfD[['Type of Traveller', 'Rating']]   #Get only 'Rating'\n",
    "dfD_TT_Rating.groupby('Type of Traveller').mean().transpose().mean()   #Gets the mean rating of all categories by traveller type"
   ]
  },
  {
   "cell_type": "markdown",
   "metadata": {},
   "source": [
    "##### Recommended"
   ]
  },
  {
   "cell_type": "code",
   "execution_count": 21,
   "metadata": {},
   "outputs": [
    {
     "data": {
      "text/plain": [
       "Type of Traveller\n",
       "Business          0.411290\n",
       "Couple Leisure    0.391304\n",
       "Family Leisure    0.421769\n",
       "Solo Leisure      0.520202\n",
       "Unknown           0.633333\n",
       "dtype: float64"
      ]
     },
     "execution_count": 21,
     "metadata": {},
     "output_type": "execute_result"
    }
   ],
   "source": [
    "dfD_TT_Recommended = dfD[['Type of Traveller', 'Recommended']]   #Get only recommended\n",
    "dfD_TT_Recommended.groupby('Type of Traveller').mean().transpose().mean()   #Gets the mean rating of all categories by traveller type"
   ]
  },
  {
   "cell_type": "markdown",
   "metadata": {},
   "source": [
    "###### Delta does not show much variation in their travellers reviews and ratings."
   ]
  },
  {
   "cell_type": "markdown",
   "metadata": {},
   "source": [
    "###### No, the type of traveller does not appear to influence the reviews and recommendations for this airline."
   ]
  },
  {
   "cell_type": "markdown",
   "metadata": {},
   "source": [
    "- Do you think the cabin flown influence the reviews and recommendation?"
   ]
  },
  {
   "cell_type": "markdown",
   "metadata": {},
   "source": [
    "### United Airlines - Cabin Flown"
   ]
  },
  {
   "cell_type": "markdown",
   "metadata": {},
   "source": [
    "##### Reviews (An average of 'Cabin Staff Service,' 'Food & Beverages,' 'Ground Service,' and more)"
   ]
  },
  {
   "cell_type": "code",
   "execution_count": 22,
   "metadata": {
    "scrolled": true
   },
   "outputs": [
    {
     "data": {
      "text/plain": [
       "Cabin Flown\n",
       "Business Class     2.729293\n",
       "Economy Class      1.838894\n",
       "First Class        2.579832\n",
       "Premium Economy    2.155238\n",
       "Unknown            3.166667\n",
       "dtype: float64"
      ]
     },
     "execution_count": 22,
     "metadata": {},
     "output_type": "execute_result"
    }
   ],
   "source": [
    "dfU_CF_Review = dfU.drop(['Rating', 'Recommended'], axis=1)   #Exclude 'Rating' and 'Recommended' as they are out of 10 and 1, respectively\n",
    "dfU_CF_Review.groupby('Cabin Flown').mean().transpose().mean()   #Returns the mean review of all categories by cabin flown"
   ]
  },
  {
   "cell_type": "markdown",
   "metadata": {},
   "source": [
    "##### Ratings"
   ]
  },
  {
   "cell_type": "code",
   "execution_count": 23,
   "metadata": {},
   "outputs": [
    {
     "data": {
      "text/plain": [
       "Cabin Flown\n",
       "Business Class     4.872727\n",
       "Economy Class      2.950406\n",
       "First Class        4.974790\n",
       "Premium Economy    3.542857\n",
       "Unknown            6.000000\n",
       "dtype: float64"
      ]
     },
     "execution_count": 23,
     "metadata": {},
     "output_type": "execute_result"
    }
   ],
   "source": [
    "dfU_CF_Rating = dfU[['Cabin Flown', 'Rating']]   #Get only rating\n",
    "dfU_CF_Rating.groupby('Cabin Flown').mean().transpose().mean()   #Returns the mean rating of all categories by cabin flown"
   ]
  },
  {
   "cell_type": "markdown",
   "metadata": {},
   "source": [
    "##### Recommended"
   ]
  },
  {
   "cell_type": "code",
   "execution_count": 24,
   "metadata": {},
   "outputs": [
    {
     "data": {
      "text/plain": [
       "Cabin Flown\n",
       "Business Class     0.436364\n",
       "Economy Class      0.203787\n",
       "First Class        0.470588\n",
       "Premium Economy    0.274286\n",
       "Unknown            0.500000\n",
       "dtype: float64"
      ]
     },
     "execution_count": 24,
     "metadata": {},
     "output_type": "execute_result"
    }
   ],
   "source": [
    "dfU_CF_Recommended = dfU[['Cabin Flown', 'Recommended']]   #Get only recommended\n",
    "dfU_CF_Recommended.groupby('Cabin Flown').mean().transpose().mean()   #Returns the mean rating of all categories by cabin flown"
   ]
  },
  {
   "cell_type": "markdown",
   "metadata": {},
   "source": [
    "###### Economy Class and Premium Economy both seem to consistently rate much lower than other cabins."
   ]
  },
  {
   "cell_type": "markdown",
   "metadata": {},
   "source": [
    "###### Yes, the cabin flown does appear to influence the reviews and recommendations."
   ]
  },
  {
   "cell_type": "markdown",
   "metadata": {},
   "source": [
    "### American Airlines - Cabin Flown"
   ]
  },
  {
   "cell_type": "markdown",
   "metadata": {},
   "source": [
    "##### Reviews (An average of 'Cabin Staff Service,' 'Food & Beverages,' 'Ground Service,' and more)"
   ]
  },
  {
   "cell_type": "code",
   "execution_count": 25,
   "metadata": {
    "scrolled": true
   },
   "outputs": [
    {
     "data": {
      "text/plain": [
       "Cabin Flown\n",
       "Business Class     2.782828\n",
       "Economy Class      1.712653\n",
       "First Class        2.593110\n",
       "Premium Economy    1.827160\n",
       "Unknown            0.833333\n",
       "dtype: float64"
      ]
     },
     "execution_count": 25,
     "metadata": {},
     "output_type": "execute_result"
    }
   ],
   "source": [
    "dfA_CF_Review = dfA.drop(['Rating', 'Recommended'], axis=1)   #Exclude 'Rating' and 'Recommended' as they are out of 10 and 1, respectively\n",
    "dfA_CF_Review.groupby('Cabin Flown').mean().transpose().mean()   #Returns the mean review of all categories by cabin flown"
   ]
  },
  {
   "cell_type": "markdown",
   "metadata": {},
   "source": [
    "##### Ratings"
   ]
  },
  {
   "cell_type": "code",
   "execution_count": 26,
   "metadata": {},
   "outputs": [
    {
     "data": {
      "text/plain": [
       "Cabin Flown\n",
       "Business Class     5.303030\n",
       "Economy Class      2.631579\n",
       "First Class        5.363128\n",
       "Premium Economy    3.148148\n",
       "Unknown            1.000000\n",
       "dtype: float64"
      ]
     },
     "execution_count": 26,
     "metadata": {},
     "output_type": "execute_result"
    }
   ],
   "source": [
    "dfA_CF_Rating = dfA[['Cabin Flown', 'Rating']]   #Get only rating\n",
    "dfA_CF_Rating.groupby('Cabin Flown').mean().transpose().mean()   #Returns the mean rating of all categories by cabin flown"
   ]
  },
  {
   "cell_type": "markdown",
   "metadata": {},
   "source": [
    "##### Recommended"
   ]
  },
  {
   "cell_type": "code",
   "execution_count": 27,
   "metadata": {},
   "outputs": [
    {
     "data": {
      "text/plain": [
       "Cabin Flown\n",
       "Business Class     0.500000\n",
       "Economy Class      0.178628\n",
       "First Class        0.508380\n",
       "Premium Economy    0.203704\n",
       "Unknown            0.000000\n",
       "dtype: float64"
      ]
     },
     "execution_count": 27,
     "metadata": {},
     "output_type": "execute_result"
    }
   ],
   "source": [
    "dfA_CF_Recommended = dfA[['Cabin Flown', 'Recommended']]   #Get only recommended\n",
    "dfA_CF_Recommended.groupby('Cabin Flown').mean().transpose().mean()   #Returns the mean rating of all categories by cabin flown"
   ]
  },
  {
   "cell_type": "markdown",
   "metadata": {},
   "source": [
    "###### Similarly to United, American's Economy Class and Premium Economy both seem to consistently rate much lower than other cabins."
   ]
  },
  {
   "cell_type": "markdown",
   "metadata": {},
   "source": [
    "###### Yes, the cabin flown does appear to influence the reviews and recommendations."
   ]
  },
  {
   "cell_type": "markdown",
   "metadata": {},
   "source": [
    "### Delta Airlines - Cabin Flown"
   ]
  },
  {
   "cell_type": "markdown",
   "metadata": {},
   "source": [
    "##### Reviews (An average of 'Cabin Staff Service,' 'Food & Beverages,' 'Ground Service,' and more)"
   ]
  },
  {
   "cell_type": "code",
   "execution_count": 28,
   "metadata": {
    "scrolled": true
   },
   "outputs": [
    {
     "data": {
      "text/plain": [
       "Cabin Flown\n",
       "Business Class     3.306268\n",
       "Economy Class      2.556460\n",
       "First Class        3.035461\n",
       "Premium Economy    2.640845\n",
       "Unknown            3.916667\n",
       "dtype: float64"
      ]
     },
     "execution_count": 28,
     "metadata": {},
     "output_type": "execute_result"
    }
   ],
   "source": [
    "dfD_CF_Review = dfD.drop(['Rating', 'Recommended'], axis=1)   #Exclude 'Rating' and 'Recommended' as they are out of 10 and 1, respectively\n",
    "dfD_CF_Review.groupby('Cabin Flown').mean().transpose().mean()   #Returns the mean review of all categories by cabin flown"
   ]
  },
  {
   "cell_type": "markdown",
   "metadata": {},
   "source": [
    "##### Ratings"
   ]
  },
  {
   "cell_type": "code",
   "execution_count": 29,
   "metadata": {},
   "outputs": [
    {
     "data": {
      "text/plain": [
       "Cabin Flown\n",
       "Business Class     6.871795\n",
       "Economy Class      4.908284\n",
       "First Class        6.106383\n",
       "Premium Economy    4.971831\n",
       "Unknown            8.000000\n",
       "dtype: float64"
      ]
     },
     "execution_count": 29,
     "metadata": {},
     "output_type": "execute_result"
    }
   ],
   "source": [
    "dfD_CF_Rating = dfD[['Cabin Flown', 'Rating']]   #Get only rating\n",
    "dfD_CF_Rating.groupby('Cabin Flown').mean().transpose().mean()   #Returns the mean rating of all categories by cabin flown"
   ]
  },
  {
   "cell_type": "markdown",
   "metadata": {},
   "source": [
    "##### Recommended"
   ]
  },
  {
   "cell_type": "code",
   "execution_count": 30,
   "metadata": {},
   "outputs": [
    {
     "data": {
      "text/plain": [
       "Cabin Flown\n",
       "Business Class     0.717949\n",
       "Economy Class      0.460059\n",
       "First Class        0.638298\n",
       "Premium Economy    0.436620\n",
       "Unknown            1.000000\n",
       "dtype: float64"
      ]
     },
     "execution_count": 30,
     "metadata": {},
     "output_type": "execute_result"
    }
   ],
   "source": [
    "dfD_CF_Recommended = dfD[['Cabin Flown', 'Recommended']]   #Get only recommended\n",
    "dfD_CF_Recommended.groupby('Cabin Flown').mean().transpose().mean()   #Returns the mean rating of all categories by cabin flown"
   ]
  },
  {
   "cell_type": "markdown",
   "metadata": {},
   "source": [
    "###### Completing the pattern, Delta's Economy Class and Premium Economy also both seem to consistently rate lower than other cabins."
   ]
  },
  {
   "cell_type": "markdown",
   "metadata": {},
   "source": [
    "###### Yes, the cabin flown does appear to influence the reviews and recommendations."
   ]
  },
  {
   "cell_type": "markdown",
   "metadata": {},
   "source": [
    "- Which airlines do you think offer the best First Class and Businsess Class, based on the reviews?"
   ]
  },
  {
   "cell_type": "markdown",
   "metadata": {},
   "source": [
    "###### Regarding First Class, Delta Airlines should be selected as it has the highest ratings on average from the First Class passengers."
   ]
  },
  {
   "cell_type": "markdown",
   "metadata": {},
   "source": [
    "###### Simlarly for Business Class, Delta Airlines should be selected as it has the highest ratings on average from the Business Class passengers."
   ]
  },
  {
   "cell_type": "markdown",
   "metadata": {},
   "source": [
    "#### Part 2: Investigate the data\n",
    "\n",
    "- Consider Part 1 as a univariate analysis, in this part perform a bi-variate analysis of the data.\n",
    "- Use PCA and create a scatter plot of the first two PCs (with different colors for different airlines) to investigate similarities and differences in the reviews of these three airlines.\n"
   ]
  },
  {
   "cell_type": "code",
   "execution_count": 31,
   "metadata": {},
   "outputs": [],
   "source": [
    "import seaborn as sns   #Imports associated with PCA\n",
    "import matplotlib.pyplot as plt\n",
    "%matplotlib inline"
   ]
  },
  {
   "cell_type": "code",
   "execution_count": 32,
   "metadata": {},
   "outputs": [],
   "source": [
    "dfU['Airline'] = 'United'   #Create a new column for airline\n",
    "dfA['Airline'] = 'American'\n",
    "dfD['Airline'] = 'Delta'\n",
    "frames = [dfU, dfA, dfD]\n",
    "dfAirline = pd.concat(frames)   #Concatenate all data"
   ]
  },
  {
   "cell_type": "markdown",
   "metadata": {},
   "source": [
    "### Scale Data"
   ]
  },
  {
   "cell_type": "code",
   "execution_count": 33,
   "metadata": {},
   "outputs": [
    {
     "data": {
      "image/png": "[encoded data removed]",
      "text/plain": [
       "<Figure size 432x288 with 1 Axes>"
      ]
     },
     "metadata": {},
     "output_type": "display_data"
    }
   ],
   "source": [
    "from sklearn.preprocessing import scale\n",
    "Airline_sc = scale(dfAirline.drop(['Airline', 'Cabin Flown', 'Type of Traveller', 'Date Flown'], axis=1))\n",
    "plt.scatter(Airline_sc[:,2],Airline_sc[:,3]);"
   ]
  },
  {
   "cell_type": "code",
   "execution_count": 34,
   "metadata": {
    "scrolled": true
   },
   "outputs": [
    {
     "data": {
      "image/png": "[encoded data removed]",
      "text/plain": [
       "<Figure size 1440x1152 with 64 Axes>"
      ]
     },
     "metadata": {},
     "output_type": "display_data"
    }
   ],
   "source": [
    "pd.plotting.scatter_matrix(dfAirline, figsize=(20,16));"
   ]
  },
  {
   "cell_type": "markdown",
   "metadata": {},
   "source": [
    "### Find Max Variance Direction"
   ]
  },
  {
   "cell_type": "code",
   "execution_count": 35,
   "metadata": {},
   "outputs": [
    {
     "name": "stdout",
     "output_type": "stream",
     "text": [
      "\n",
      "Eigen values: [5.2911087  0.87584867 0.56562829 0.0751752  0.15849982 0.40901926\n",
      " 0.28916658 0.33745147]\n",
      "\n",
      "Eigen vectors: \n",
      "[[-0.3609013   0.0187242   0.25918766  0.05803776 -0.06396896  0.59161875\n",
      "  -0.66539273  0.04473011]\n",
      " [-0.35292695 -0.26632654 -0.18200748  0.03205478  0.06855756  0.48626315\n",
      "   0.57181773  0.44970101]\n",
      " [-0.21445529  0.84191987 -0.48080043  0.01816306 -0.00088346  0.10323923\n",
      "   0.0439697  -0.03299182]\n",
      " [-0.29644287 -0.44962431 -0.72731907  0.00502279 -0.02789559 -0.22712187\n",
      "  -0.34137253 -0.1097435 ]\n",
      " [-0.41051742  0.05708388  0.18745308 -0.84133617  0.07006959 -0.257115\n",
      "  -0.00343311  0.11917221]\n",
      " [-0.39571403  0.04055114  0.19786588  0.28146361 -0.77782989 -0.31295545\n",
      "   0.11921867  0.07886571]\n",
      " [-0.36569052 -0.08203322  0.13600266  0.05305925  0.14219694  0.13624588\n",
      "   0.30460152 -0.84063309]\n",
      " [-0.39048646  0.0780774   0.21620977  0.45317258  0.60023315 -0.41070737\n",
      "  -0.06929284  0.23569115]]\n"
     ]
    }
   ],
   "source": [
    "import numpy as np\n",
    "cov_mat = np.cov(Airline_sc.T)\n",
    "eigen_vals, eigen_vecs = np.linalg.eig(cov_mat)\n",
    "print('\\nEigen values: %s' % eigen_vals)\n",
    "print('\\nEigen vectors: \\n%s' % eigen_vecs)"
   ]
  },
  {
   "cell_type": "code",
   "execution_count": 36,
   "metadata": {},
   "outputs": [
    {
     "name": "stdout",
     "output_type": "stream",
     "text": [
      "\n",
      "Variance explained: [0.6612317114673637, 0.10945511534838959, 0.07068676622156926, 0.009394670593968358, 0.019807778535164678, 0.05111528009113954, 0.03613724909601466, 0.04217142864639047] \n"
     ]
    },
    {
     "data": {
      "image/png": "[encoded data removed]",
      "text/plain": [
       "<Figure size 432x288 with 1 Axes>"
      ]
     },
     "metadata": {},
     "output_type": "display_data"
    }
   ],
   "source": [
    "tot = sum(eigen_vals)\n",
    "var_exp = [(i / tot) for i in eigen_vals]\n",
    "print('\\nVariance explained: %s ' % var_exp)\n",
    "plt.bar(range(1, 9), var_exp, align='center');"
   ]
  },
  {
   "cell_type": "code",
   "execution_count": 37,
   "metadata": {},
   "outputs": [
    {
     "name": "stdout",
     "output_type": "stream",
     "text": [
      "\n",
      " Total Variance explained: [0.66123171 0.77068683 0.84137359 0.85076826 0.87057604 0.92169132\n",
      " 0.95782857 1.        ] \n"
     ]
    },
    {
     "data": {
      "image/png": "[encoded data removed]",
      "text/plain": [
       "<Figure size 432x288 with 1 Axes>"
      ]
     },
     "metadata": {},
     "output_type": "display_data"
    }
   ],
   "source": [
    "cum_var_exp = np.cumsum(var_exp)\n",
    "print('\\n Total Variance explained: %s ' % cum_var_exp)\n",
    "plt.step(range(1, 9), cum_var_exp, where='mid');\n",
    "plt.bar(range(1, 9), var_exp, align='center');"
   ]
  },
  {
   "cell_type": "markdown",
   "metadata": {},
   "source": [
    "###### 77.07% of the Variance Explained by 2 PCs"
   ]
  },
  {
   "cell_type": "code",
   "execution_count": 38,
   "metadata": {
    "scrolled": true
   },
   "outputs": [
    {
     "data": {
      "image/png": "[encoded data removed]",
      "text/plain": [
       "<Figure size 432x288 with 1 Axes>"
      ]
     },
     "metadata": {},
     "output_type": "display_data"
    }
   ],
   "source": [
    "Airline_pca = Airline_sc.dot(eigen_vecs[:,:2])\n",
    "\n",
    "# plot the first and second PCs\n",
    "plt.scatter(Airline_pca[:,0],Airline_pca[:,1]);"
   ]
  },
  {
   "cell_type": "markdown",
   "metadata": {},
   "source": [
    "### Fit and Transform Data"
   ]
  },
  {
   "cell_type": "code",
   "execution_count": 39,
   "metadata": {
    "scrolled": false
   },
   "outputs": [
    {
     "name": "stdout",
     "output_type": "stream",
     "text": [
      "[[ 0.3609013   0.35292695  0.21445529  0.29644287  0.41051742  0.39571403\n",
      "   0.36569052  0.39048646]\n",
      " [ 0.0187242  -0.26632654  0.84191987 -0.44962431  0.05708388  0.04055114\n",
      "  -0.08203322  0.0780774 ]\n",
      " [-0.25918766  0.18200748  0.48080043  0.72731907 -0.18745308 -0.19786588\n",
      "  -0.13600266 -0.21620977]\n",
      " [-0.59161875 -0.48626315 -0.10323923  0.22712187  0.257115    0.31295545\n",
      "  -0.13624588  0.41070737]\n",
      " [ 0.04473011  0.44970101 -0.03299182 -0.1097435   0.11917221  0.07886571\n",
      "  -0.84063309  0.23569115]\n",
      " [-0.66539273  0.57181773  0.0439697  -0.34137253 -0.00343311  0.11921867\n",
      "   0.30460152 -0.06929284]\n",
      " [-0.06396896  0.06855756 -0.00088346 -0.02789559  0.07006959 -0.77782989\n",
      "   0.14219694  0.60023315]\n",
      " [-0.05803776 -0.03205478 -0.01816306 -0.00502279  0.84133617 -0.28146361\n",
      "  -0.05305925 -0.45317258]]\n",
      "[5.2911087  0.87584867 0.56562829 0.40901926 0.33745147 0.28916658\n",
      " 0.15849982 0.0751752 ]\n"
     ]
    },
    {
     "data": {
      "text/plain": [
       "array([0.66123171, 0.10945512, 0.07068677, 0.05111528, 0.04217143,\n",
       "       0.03613725, 0.01980778, 0.00939467])"
      ]
     },
     "execution_count": 39,
     "metadata": {},
     "output_type": "execute_result"
    }
   ],
   "source": [
    "from sklearn.decomposition import PCA \n",
    "pca = PCA()\n",
    "Airline_pca2 = pca.fit_transform(Airline_sc)\n",
    "\n",
    "print(pca.components_)\n",
    "print(pca.explained_variance_)\n",
    "pca.explained_variance_ratio_"
   ]
  },
  {
   "cell_type": "code",
   "execution_count": 40,
   "metadata": {},
   "outputs": [
    {
     "data": {
      "image/png": "[encoded data removed]",
      "text/plain": [
       "<Figure size 432x288 with 1 Axes>"
      ]
     },
     "metadata": {},
     "output_type": "display_data"
    }
   ],
   "source": [
    "plt.plot(range(1, 9), np.cumsum(pca.explained_variance_ratio_))\n",
    "plt.xlabel('number of components')\n",
    "plt.ylabel('cumulative explained variance');"
   ]
  },
  {
   "cell_type": "code",
   "execution_count": 41,
   "metadata": {},
   "outputs": [
    {
     "data": {
      "image/png": "[encoded data removed]",
      "text/plain": [
       "<Figure size 432x288 with 1 Axes>"
      ]
     },
     "metadata": {},
     "output_type": "display_data"
    }
   ],
   "source": [
    "plt.scatter(Airline_pca2[:,0],Airline_pca2[:,1]);"
   ]
  },
  {
   "cell_type": "code",
   "execution_count": 42,
   "metadata": {
    "scrolled": true
   },
   "outputs": [
    {
     "data": {
      "image/png": "[encoded data removed]",
      "text/plain": [
       "<Figure size 432x288 with 1 Axes>"
      ]
     },
     "metadata": {},
     "output_type": "display_data"
    }
   ],
   "source": [
    "plt.scatter(Airline_sc[:, 2], Airline_sc[:, 3]);"
   ]
  },
  {
   "cell_type": "code",
   "execution_count": 43,
   "metadata": {},
   "outputs": [
    {
     "name": "stdout",
     "output_type": "stream",
     "text": [
      "\n",
      " The transformed data: [[ 0.28094725]\n",
      " [ 0.29267164]\n",
      " [-0.57345025]\n",
      " [-1.000649  ]\n",
      " [ 0.28094725]\n",
      " [ 2.8910373 ]\n",
      " [ 0.28094725]\n",
      " [-1.000649  ]\n",
      " [ 2.46383855]\n",
      " [-0.57345025]] \n"
     ]
    }
   ],
   "source": [
    "pca = PCA(n_components=1)\n",
    "Airline_pca3 = pca.fit_transform(Airline_sc[:,2:4])\n",
    "print('\\n The transformed data: %s ' % Airline_pca3[:10])"
   ]
  },
  {
   "cell_type": "code",
   "execution_count": 44,
   "metadata": {
    "scrolled": true
   },
   "outputs": [
    {
     "data": {
      "image/png": "[encoded data removed]",
      "text/plain": [
       "<Figure size 432x288 with 1 Axes>"
      ]
     },
     "metadata": {},
     "output_type": "display_data"
    }
   ],
   "source": [
    "Airline_new = pca.inverse_transform(Airline_pca3)\n",
    "plt.scatter(Airline_sc[:, 2], Airline_sc[:, 3], alpha=0.5);\n",
    "plt.scatter(Airline_new[:, 0], Airline_new[:, 1], alpha=0.8);"
   ]
  },
  {
   "cell_type": "markdown",
   "metadata": {},
   "source": [
    "### Plot Comparison of Airlines"
   ]
  },
  {
   "cell_type": "code",
   "execution_count": 45,
   "metadata": {
    "scrolled": false
   },
   "outputs": [
    {
     "data": {
      "image/png": "[encoded data removed]",
      "text/plain": [
       "<Figure size 1523.62x1440 with 72 Axes>"
      ]
     },
     "metadata": {},
     "output_type": "display_data"
    }
   ],
   "source": [
    "sns.pairplot(dfAirline, hue='Airline', diag_kind=\"hist\", markers=\"+\");"
   ]
  },
  {
   "cell_type": "code",
   "execution_count": 46,
   "metadata": {
    "scrolled": true
   },
   "outputs": [
    {
     "data": {
      "image/png": "[encoded data removed]",
      "text/plain": [
       "<Figure size 432x288 with 1 Axes>"
      ]
     },
     "metadata": {},
     "output_type": "display_data"
    }
   ],
   "source": [
    "temp = 2108\n",
    "Airlinec = np.r_[np.ones(temp), np.ones(temp)*2]\n",
    "plt.scatter(Airline_pca2[:,0],Airline_pca2[:,1], c=Airlinec);"
   ]
  },
  {
   "cell_type": "markdown",
   "metadata": {},
   "source": [
    "#### Part 3: Modeling\n",
    "\n",
    "- Consider the \"Recommended\" column as 'y' and all other columns as 'X'\n",
    "- Based on the features/review scores (all columns except recommendation), which features influence the recommendation decision the most?\n",
    "- Build a Bayesian model to predict recommendations?"
   ]
  },
  {
   "cell_type": "code",
   "execution_count": 73,
   "metadata": {},
   "outputs": [],
   "source": [
    "from sklearn.naive_bayes import GaussianNB   #Imports for Bayesian\n",
    "gnb = GaussianNB()\n",
    "dfAirline.Recommended = dfAirline.Recommended.astype('bool')   #Convert Recommended to boolean"
   ]
  },
  {
   "cell_type": "code",
   "execution_count": 74,
   "metadata": {},
   "outputs": [
    {
     "data": {
      "text/html": [
       "<div>\n",
       "<style scoped>\n",
       "    .dataframe tbody tr th:only-of-type {\n",
       "        vertical-align: middle;\n",
       "    }\n",
       "\n",
       "    .dataframe tbody tr th {\n",
       "        vertical-align: top;\n",
       "    }\n",
       "\n",
       "    .dataframe thead th {\n",
       "        text-align: right;\n",
       "    }\n",
       "</style>\n",
       "<table border=\"1\" class=\"dataframe\">\n",
       "  <thead>\n",
       "    <tr style=\"text-align: right;\">\n",
       "      <th></th>\n",
       "      <th>Airline</th>\n",
       "      <th>Cabin Flown</th>\n",
       "      <th>Type of Traveller</th>\n",
       "      <th>Date Flown</th>\n",
       "      <th>Cabin Staff Service</th>\n",
       "      <th>Food &amp; Beverages</th>\n",
       "      <th>Ground Service</th>\n",
       "      <th>Inflight Entertainment</th>\n",
       "      <th>Rating</th>\n",
       "      <th>Value for Money</th>\n",
       "      <th>Seat Comfort</th>\n",
       "    </tr>\n",
       "    <tr>\n",
       "      <th>Recommended</th>\n",
       "      <th></th>\n",
       "      <th></th>\n",
       "      <th></th>\n",
       "      <th></th>\n",
       "      <th></th>\n",
       "      <th></th>\n",
       "      <th></th>\n",
       "      <th></th>\n",
       "      <th></th>\n",
       "      <th></th>\n",
       "      <th></th>\n",
       "    </tr>\n",
       "  </thead>\n",
       "  <tbody>\n",
       "    <tr>\n",
       "      <th>False</th>\n",
       "      <td>2900</td>\n",
       "      <td>2900</td>\n",
       "      <td>2900</td>\n",
       "      <td>2900</td>\n",
       "      <td>2900</td>\n",
       "      <td>2900</td>\n",
       "      <td>2900</td>\n",
       "      <td>2900</td>\n",
       "      <td>2900</td>\n",
       "      <td>2900</td>\n",
       "      <td>2900</td>\n",
       "    </tr>\n",
       "    <tr>\n",
       "      <th>True</th>\n",
       "      <td>1316</td>\n",
       "      <td>1316</td>\n",
       "      <td>1316</td>\n",
       "      <td>1316</td>\n",
       "      <td>1316</td>\n",
       "      <td>1316</td>\n",
       "      <td>1316</td>\n",
       "      <td>1316</td>\n",
       "      <td>1316</td>\n",
       "      <td>1316</td>\n",
       "      <td>1316</td>\n",
       "    </tr>\n",
       "  </tbody>\n",
       "</table>\n",
       "</div>"
      ],
      "text/plain": [
       "             Airline  Cabin Flown  Type of Traveller  Date Flown  \\\n",
       "Recommended                                                        \n",
       "False           2900         2900               2900        2900   \n",
       "True            1316         1316               1316        1316   \n",
       "\n",
       "             Cabin Staff Service  Food & Beverages  Ground Service  \\\n",
       "Recommended                                                          \n",
       "False                       2900              2900            2900   \n",
       "True                        1316              1316            1316   \n",
       "\n",
       "             Inflight Entertainment  Rating  Value for Money  Seat Comfort  \n",
       "Recommended                                                                 \n",
       "False                          2900    2900             2900          2900  \n",
       "True                           1316    1316             1316          1316  "
      ]
     },
     "execution_count": 74,
     "metadata": {},
     "output_type": "execute_result"
    }
   ],
   "source": [
    "dfAirline.groupby('Recommended').count()   #Get true/false counts"
   ]
  },
  {
   "cell_type": "code",
   "execution_count": 75,
   "metadata": {},
   "outputs": [
    {
     "data": {
      "text/plain": [
       "GaussianNB(priors=None)"
      ]
     },
     "execution_count": 75,
     "metadata": {},
     "output_type": "execute_result"
    }
   ],
   "source": [
    "gnb.fit(dfAirline.drop(['Airline', 'Recommended', 'Cabin Flown', 'Type of Traveller', 'Date Flown'],axis=1),dfAirline.Recommended)"
   ]
  },
  {
   "cell_type": "code",
   "execution_count": 76,
   "metadata": {
    "scrolled": true
   },
   "outputs": [
    {
     "data": {
      "text/plain": [
       "array([False, False, False, ..., False,  True, False])"
      ]
     },
     "execution_count": 76,
     "metadata": {},
     "output_type": "execute_result"
    }
   ],
   "source": [
    "gnb.predict(dfAirline.drop(['Airline', 'Recommended', 'Cabin Flown', 'Type of Traveller', 'Date Flown'],axis=1))"
   ]
  },
  {
   "cell_type": "code",
   "execution_count": 77,
   "metadata": {},
   "outputs": [],
   "source": [
    "from sklearn import metrics\n",
    "pred = gnb.predict(dfAirline.drop(['Airline', 'Recommended', 'Cabin Flown', 'Type of Traveller', 'Date Flown'],axis=1))"
   ]
  },
  {
   "cell_type": "markdown",
   "metadata": {},
   "source": [
    "### Accuracy Score"
   ]
  },
  {
   "cell_type": "code",
   "execution_count": 78,
   "metadata": {},
   "outputs": [
    {
     "data": {
      "text/plain": [
       "0.9551707779886148"
      ]
     },
     "execution_count": 78,
     "metadata": {},
     "output_type": "execute_result"
    }
   ],
   "source": [
    "metrics.accuracy_score(pred, dfAirline.Recommended)"
   ]
  },
  {
   "cell_type": "markdown",
   "metadata": {},
   "source": [
    "### Confusion Matrix"
   ]
  },
  {
   "cell_type": "code",
   "execution_count": 79,
   "metadata": {},
   "outputs": [
    {
     "data": {
      "text/plain": [
       "array([[2761,   50],\n",
       "       [ 139, 1266]], dtype=int64)"
      ]
     },
     "execution_count": 79,
     "metadata": {},
     "output_type": "execute_result"
    }
   ],
   "source": [
    "metrics.confusion_matrix(pred, dfAirline.Recommended)"
   ]
  },
  {
   "cell_type": "markdown",
   "metadata": {},
   "source": [
    "### Classification Report"
   ]
  },
  {
   "cell_type": "code",
   "execution_count": 80,
   "metadata": {
    "scrolled": true
   },
   "outputs": [
    {
     "name": "stdout",
     "output_type": "stream",
     "text": [
      "             precision    recall  f1-score   support\n",
      "\n",
      "      False       0.95      0.98      0.97      2811\n",
      "       True       0.96      0.90      0.93      1405\n",
      "\n",
      "avg / total       0.96      0.96      0.95      4216\n",
      "\n"
     ]
    }
   ],
   "source": [
    "print(metrics.classification_report(pred, dfAirline.Recommended))"
   ]
  },
  {
   "cell_type": "markdown",
   "metadata": {},
   "source": [
    "### False Positives"
   ]
  },
  {
   "cell_type": "code",
   "execution_count": 56,
   "metadata": {
    "scrolled": true
   },
   "outputs": [
    {
     "data": {
      "text/html": [
       "<div>\n",
       "<style scoped>\n",
       "    .dataframe tbody tr th:only-of-type {\n",
       "        vertical-align: middle;\n",
       "    }\n",
       "\n",
       "    .dataframe tbody tr th {\n",
       "        vertical-align: top;\n",
       "    }\n",
       "\n",
       "    .dataframe thead th {\n",
       "        text-align: right;\n",
       "    }\n",
       "</style>\n",
       "<table border=\"1\" class=\"dataframe\">\n",
       "  <thead>\n",
       "    <tr style=\"text-align: right;\">\n",
       "      <th></th>\n",
       "      <th>Airline</th>\n",
       "      <th>Cabin Flown</th>\n",
       "      <th>Type of Traveller</th>\n",
       "      <th>Date Flown</th>\n",
       "      <th>Cabin Staff Service</th>\n",
       "      <th>Food &amp; Beverages</th>\n",
       "      <th>Ground Service</th>\n",
       "      <th>Inflight Entertainment</th>\n",
       "      <th>Rating</th>\n",
       "      <th>Value for Money</th>\n",
       "      <th>Seat Comfort</th>\n",
       "      <th>Recommended</th>\n",
       "    </tr>\n",
       "  </thead>\n",
       "  <tbody>\n",
       "    <tr>\n",
       "      <th>1</th>\n",
       "      <td>United</td>\n",
       "      <td>Economy Class</td>\n",
       "      <td>Solo Leisure</td>\n",
       "      <td>October 2017</td>\n",
       "      <td>3</td>\n",
       "      <td>1</td>\n",
       "      <td>2</td>\n",
       "      <td>2</td>\n",
       "      <td>4</td>\n",
       "      <td>2</td>\n",
       "      <td>1</td>\n",
       "      <td>True</td>\n",
       "    </tr>\n",
       "    <tr>\n",
       "      <th>187</th>\n",
       "      <td>United</td>\n",
       "      <td>Economy Class</td>\n",
       "      <td>Solo Leisure</td>\n",
       "      <td>May 2017</td>\n",
       "      <td>1</td>\n",
       "      <td>0</td>\n",
       "      <td>4</td>\n",
       "      <td>0</td>\n",
       "      <td>5</td>\n",
       "      <td>3</td>\n",
       "      <td>2</td>\n",
       "      <td>True</td>\n",
       "    </tr>\n",
       "    <tr>\n",
       "      <th>230</th>\n",
       "      <td>United</td>\n",
       "      <td>Economy Class</td>\n",
       "      <td>Solo Leisure</td>\n",
       "      <td>April 2017</td>\n",
       "      <td>3</td>\n",
       "      <td>2</td>\n",
       "      <td>2</td>\n",
       "      <td>4</td>\n",
       "      <td>5</td>\n",
       "      <td>3</td>\n",
       "      <td>2</td>\n",
       "      <td>True</td>\n",
       "    </tr>\n",
       "    <tr>\n",
       "      <th>252</th>\n",
       "      <td>United</td>\n",
       "      <td>Economy Class</td>\n",
       "      <td>Solo Leisure</td>\n",
       "      <td>February 2017</td>\n",
       "      <td>3</td>\n",
       "      <td>1</td>\n",
       "      <td>3</td>\n",
       "      <td>1</td>\n",
       "      <td>4</td>\n",
       "      <td>2</td>\n",
       "      <td>3</td>\n",
       "      <td>True</td>\n",
       "    </tr>\n",
       "    <tr>\n",
       "      <th>397</th>\n",
       "      <td>United</td>\n",
       "      <td>Premium Economy</td>\n",
       "      <td>Family Leisure</td>\n",
       "      <td>August 2016</td>\n",
       "      <td>3</td>\n",
       "      <td>3</td>\n",
       "      <td>2</td>\n",
       "      <td>4</td>\n",
       "      <td>5</td>\n",
       "      <td>2</td>\n",
       "      <td>3</td>\n",
       "      <td>True</td>\n",
       "    </tr>\n",
       "    <tr>\n",
       "      <th>436</th>\n",
       "      <td>United</td>\n",
       "      <td>Business Class</td>\n",
       "      <td>Business</td>\n",
       "      <td>July 2016</td>\n",
       "      <td>3</td>\n",
       "      <td>3</td>\n",
       "      <td>2</td>\n",
       "      <td>2</td>\n",
       "      <td>2</td>\n",
       "      <td>2</td>\n",
       "      <td>2</td>\n",
       "      <td>True</td>\n",
       "    </tr>\n",
       "    <tr>\n",
       "      <th>677</th>\n",
       "      <td>United</td>\n",
       "      <td>Premium Economy</td>\n",
       "      <td>Family Leisure</td>\n",
       "      <td>January 2016</td>\n",
       "      <td>4</td>\n",
       "      <td>1</td>\n",
       "      <td>2</td>\n",
       "      <td>5</td>\n",
       "      <td>5</td>\n",
       "      <td>2</td>\n",
       "      <td>2</td>\n",
       "      <td>True</td>\n",
       "    </tr>\n",
       "    <tr>\n",
       "      <th>844</th>\n",
       "      <td>United</td>\n",
       "      <td>Economy Class</td>\n",
       "      <td>Couple Leisure</td>\n",
       "      <td>October 2015</td>\n",
       "      <td>4</td>\n",
       "      <td>1</td>\n",
       "      <td>2</td>\n",
       "      <td>0</td>\n",
       "      <td>4</td>\n",
       "      <td>3</td>\n",
       "      <td>1</td>\n",
       "      <td>True</td>\n",
       "    </tr>\n",
       "    <tr>\n",
       "      <th>900</th>\n",
       "      <td>United</td>\n",
       "      <td>Economy Class</td>\n",
       "      <td>Solo Leisure</td>\n",
       "      <td>September 2015</td>\n",
       "      <td>1</td>\n",
       "      <td>1</td>\n",
       "      <td>5</td>\n",
       "      <td>1</td>\n",
       "      <td>4</td>\n",
       "      <td>3</td>\n",
       "      <td>2</td>\n",
       "      <td>True</td>\n",
       "    </tr>\n",
       "    <tr>\n",
       "      <th>1089</th>\n",
       "      <td>United</td>\n",
       "      <td>Economy Class</td>\n",
       "      <td>Unknown</td>\n",
       "      <td>Unknown</td>\n",
       "      <td>3</td>\n",
       "      <td>2</td>\n",
       "      <td>0</td>\n",
       "      <td>0</td>\n",
       "      <td>7</td>\n",
       "      <td>0</td>\n",
       "      <td>3</td>\n",
       "      <td>True</td>\n",
       "    </tr>\n",
       "    <tr>\n",
       "      <th>1090</th>\n",
       "      <td>United</td>\n",
       "      <td>Economy Class</td>\n",
       "      <td>Unknown</td>\n",
       "      <td>Unknown</td>\n",
       "      <td>3</td>\n",
       "      <td>2</td>\n",
       "      <td>0</td>\n",
       "      <td>0</td>\n",
       "      <td>7</td>\n",
       "      <td>0</td>\n",
       "      <td>3</td>\n",
       "      <td>True</td>\n",
       "    </tr>\n",
       "    <tr>\n",
       "      <th>1153</th>\n",
       "      <td>United</td>\n",
       "      <td>Economy Class</td>\n",
       "      <td>Unknown</td>\n",
       "      <td>Unknown</td>\n",
       "      <td>0</td>\n",
       "      <td>0</td>\n",
       "      <td>0</td>\n",
       "      <td>0</td>\n",
       "      <td>7</td>\n",
       "      <td>0</td>\n",
       "      <td>0</td>\n",
       "      <td>True</td>\n",
       "    </tr>\n",
       "    <tr>\n",
       "      <th>1342</th>\n",
       "      <td>United</td>\n",
       "      <td>Premium Economy</td>\n",
       "      <td>Unknown</td>\n",
       "      <td>Unknown</td>\n",
       "      <td>3</td>\n",
       "      <td>1</td>\n",
       "      <td>0</td>\n",
       "      <td>1</td>\n",
       "      <td>5</td>\n",
       "      <td>3</td>\n",
       "      <td>3</td>\n",
       "      <td>True</td>\n",
       "    </tr>\n",
       "    <tr>\n",
       "      <th>1450</th>\n",
       "      <td>United</td>\n",
       "      <td>Economy Class</td>\n",
       "      <td>Unknown</td>\n",
       "      <td>Unknown</td>\n",
       "      <td>2</td>\n",
       "      <td>2</td>\n",
       "      <td>0</td>\n",
       "      <td>1</td>\n",
       "      <td>2</td>\n",
       "      <td>3</td>\n",
       "      <td>1</td>\n",
       "      <td>True</td>\n",
       "    </tr>\n",
       "    <tr>\n",
       "      <th>9</th>\n",
       "      <td>American</td>\n",
       "      <td>First Class</td>\n",
       "      <td>Business</td>\n",
       "      <td>August 2017</td>\n",
       "      <td>1</td>\n",
       "      <td>1</td>\n",
       "      <td>1</td>\n",
       "      <td>0</td>\n",
       "      <td>2</td>\n",
       "      <td>1</td>\n",
       "      <td>2</td>\n",
       "      <td>True</td>\n",
       "    </tr>\n",
       "    <tr>\n",
       "      <th>40</th>\n",
       "      <td>American</td>\n",
       "      <td>Economy Class</td>\n",
       "      <td>Business</td>\n",
       "      <td>August 2017</td>\n",
       "      <td>1</td>\n",
       "      <td>0</td>\n",
       "      <td>2</td>\n",
       "      <td>4</td>\n",
       "      <td>5</td>\n",
       "      <td>3</td>\n",
       "      <td>4</td>\n",
       "      <td>True</td>\n",
       "    </tr>\n",
       "    <tr>\n",
       "      <th>73</th>\n",
       "      <td>American</td>\n",
       "      <td>Economy Class</td>\n",
       "      <td>Couple Leisure</td>\n",
       "      <td>July 2017</td>\n",
       "      <td>1</td>\n",
       "      <td>1</td>\n",
       "      <td>1</td>\n",
       "      <td>4</td>\n",
       "      <td>3</td>\n",
       "      <td>2</td>\n",
       "      <td>3</td>\n",
       "      <td>True</td>\n",
       "    </tr>\n",
       "    <tr>\n",
       "      <th>104</th>\n",
       "      <td>American</td>\n",
       "      <td>Premium Economy</td>\n",
       "      <td>Business</td>\n",
       "      <td>July 2017</td>\n",
       "      <td>3</td>\n",
       "      <td>2</td>\n",
       "      <td>3</td>\n",
       "      <td>2</td>\n",
       "      <td>4</td>\n",
       "      <td>3</td>\n",
       "      <td>1</td>\n",
       "      <td>True</td>\n",
       "    </tr>\n",
       "    <tr>\n",
       "      <th>256</th>\n",
       "      <td>American</td>\n",
       "      <td>Economy Class</td>\n",
       "      <td>Family Leisure</td>\n",
       "      <td>February 2017</td>\n",
       "      <td>3</td>\n",
       "      <td>1</td>\n",
       "      <td>3</td>\n",
       "      <td>0</td>\n",
       "      <td>4</td>\n",
       "      <td>2</td>\n",
       "      <td>2</td>\n",
       "      <td>True</td>\n",
       "    </tr>\n",
       "    <tr>\n",
       "      <th>276</th>\n",
       "      <td>American</td>\n",
       "      <td>Economy Class</td>\n",
       "      <td>Solo Leisure</td>\n",
       "      <td>February 2017</td>\n",
       "      <td>3</td>\n",
       "      <td>3</td>\n",
       "      <td>3</td>\n",
       "      <td>0</td>\n",
       "      <td>2</td>\n",
       "      <td>2</td>\n",
       "      <td>2</td>\n",
       "      <td>True</td>\n",
       "    </tr>\n",
       "    <tr>\n",
       "      <th>292</th>\n",
       "      <td>American</td>\n",
       "      <td>Economy Class</td>\n",
       "      <td>Solo Leisure</td>\n",
       "      <td>January 2017</td>\n",
       "      <td>2</td>\n",
       "      <td>2</td>\n",
       "      <td>2</td>\n",
       "      <td>4</td>\n",
       "      <td>4</td>\n",
       "      <td>4</td>\n",
       "      <td>2</td>\n",
       "      <td>True</td>\n",
       "    </tr>\n",
       "    <tr>\n",
       "      <th>364</th>\n",
       "      <td>American</td>\n",
       "      <td>Economy Class</td>\n",
       "      <td>Solo Leisure</td>\n",
       "      <td>October 2016</td>\n",
       "      <td>2</td>\n",
       "      <td>2</td>\n",
       "      <td>2</td>\n",
       "      <td>3</td>\n",
       "      <td>4</td>\n",
       "      <td>2</td>\n",
       "      <td>2</td>\n",
       "      <td>True</td>\n",
       "    </tr>\n",
       "    <tr>\n",
       "      <th>563</th>\n",
       "      <td>American</td>\n",
       "      <td>First Class</td>\n",
       "      <td>Couple Leisure</td>\n",
       "      <td>June 2016</td>\n",
       "      <td>2</td>\n",
       "      <td>2</td>\n",
       "      <td>3</td>\n",
       "      <td>3</td>\n",
       "      <td>4</td>\n",
       "      <td>3</td>\n",
       "      <td>2</td>\n",
       "      <td>True</td>\n",
       "    </tr>\n",
       "    <tr>\n",
       "      <th>609</th>\n",
       "      <td>American</td>\n",
       "      <td>First Class</td>\n",
       "      <td>Family Leisure</td>\n",
       "      <td>April 2016</td>\n",
       "      <td>1</td>\n",
       "      <td>0</td>\n",
       "      <td>2</td>\n",
       "      <td>5</td>\n",
       "      <td>3</td>\n",
       "      <td>3</td>\n",
       "      <td>5</td>\n",
       "      <td>True</td>\n",
       "    </tr>\n",
       "    <tr>\n",
       "      <th>763</th>\n",
       "      <td>American</td>\n",
       "      <td>Economy Class</td>\n",
       "      <td>Solo Leisure</td>\n",
       "      <td>January 2016</td>\n",
       "      <td>0</td>\n",
       "      <td>0</td>\n",
       "      <td>4</td>\n",
       "      <td>0</td>\n",
       "      <td>7</td>\n",
       "      <td>4</td>\n",
       "      <td>0</td>\n",
       "      <td>True</td>\n",
       "    </tr>\n",
       "    <tr>\n",
       "      <th>981</th>\n",
       "      <td>American</td>\n",
       "      <td>Economy Class</td>\n",
       "      <td>Business</td>\n",
       "      <td>September 2015</td>\n",
       "      <td>1</td>\n",
       "      <td>1</td>\n",
       "      <td>3</td>\n",
       "      <td>3</td>\n",
       "      <td>6</td>\n",
       "      <td>3</td>\n",
       "      <td>3</td>\n",
       "      <td>True</td>\n",
       "    </tr>\n",
       "    <tr>\n",
       "      <th>999</th>\n",
       "      <td>American</td>\n",
       "      <td>Economy Class</td>\n",
       "      <td>Solo Leisure</td>\n",
       "      <td>August 2015</td>\n",
       "      <td>1</td>\n",
       "      <td>0</td>\n",
       "      <td>1</td>\n",
       "      <td>0</td>\n",
       "      <td>1</td>\n",
       "      <td>1</td>\n",
       "      <td>2</td>\n",
       "      <td>True</td>\n",
       "    </tr>\n",
       "    <tr>\n",
       "      <th>1043</th>\n",
       "      <td>American</td>\n",
       "      <td>Business Class</td>\n",
       "      <td>Business</td>\n",
       "      <td>August 2015</td>\n",
       "      <td>2</td>\n",
       "      <td>1</td>\n",
       "      <td>2</td>\n",
       "      <td>1</td>\n",
       "      <td>5</td>\n",
       "      <td>3</td>\n",
       "      <td>3</td>\n",
       "      <td>True</td>\n",
       "    </tr>\n",
       "    <tr>\n",
       "      <th>1217</th>\n",
       "      <td>American</td>\n",
       "      <td>Economy Class</td>\n",
       "      <td>Unknown</td>\n",
       "      <td>Unknown</td>\n",
       "      <td>3</td>\n",
       "      <td>1</td>\n",
       "      <td>0</td>\n",
       "      <td>1</td>\n",
       "      <td>3</td>\n",
       "      <td>5</td>\n",
       "      <td>2</td>\n",
       "      <td>True</td>\n",
       "    </tr>\n",
       "    <tr>\n",
       "      <th>1279</th>\n",
       "      <td>American</td>\n",
       "      <td>First Class</td>\n",
       "      <td>Unknown</td>\n",
       "      <td>Unknown</td>\n",
       "      <td>4</td>\n",
       "      <td>1</td>\n",
       "      <td>0</td>\n",
       "      <td>1</td>\n",
       "      <td>5</td>\n",
       "      <td>1</td>\n",
       "      <td>3</td>\n",
       "      <td>True</td>\n",
       "    </tr>\n",
       "    <tr>\n",
       "      <th>1497</th>\n",
       "      <td>American</td>\n",
       "      <td>First Class</td>\n",
       "      <td>Unknown</td>\n",
       "      <td>Unknown</td>\n",
       "      <td>1</td>\n",
       "      <td>3</td>\n",
       "      <td>0</td>\n",
       "      <td>4</td>\n",
       "      <td>2</td>\n",
       "      <td>2</td>\n",
       "      <td>5</td>\n",
       "      <td>True</td>\n",
       "    </tr>\n",
       "    <tr>\n",
       "      <th>1572</th>\n",
       "      <td>American</td>\n",
       "      <td>Economy Class</td>\n",
       "      <td>Unknown</td>\n",
       "      <td>Unknown</td>\n",
       "      <td>2</td>\n",
       "      <td>2</td>\n",
       "      <td>0</td>\n",
       "      <td>1</td>\n",
       "      <td>4</td>\n",
       "      <td>5</td>\n",
       "      <td>2</td>\n",
       "      <td>True</td>\n",
       "    </tr>\n",
       "    <tr>\n",
       "      <th>1599</th>\n",
       "      <td>American</td>\n",
       "      <td>Economy Class</td>\n",
       "      <td>Unknown</td>\n",
       "      <td>Unknown</td>\n",
       "      <td>3</td>\n",
       "      <td>2</td>\n",
       "      <td>0</td>\n",
       "      <td>2</td>\n",
       "      <td>5</td>\n",
       "      <td>3</td>\n",
       "      <td>3</td>\n",
       "      <td>True</td>\n",
       "    </tr>\n",
       "    <tr>\n",
       "      <th>1620</th>\n",
       "      <td>American</td>\n",
       "      <td>First Class</td>\n",
       "      <td>Unknown</td>\n",
       "      <td>Unknown</td>\n",
       "      <td>5</td>\n",
       "      <td>1</td>\n",
       "      <td>0</td>\n",
       "      <td>1</td>\n",
       "      <td>4</td>\n",
       "      <td>3</td>\n",
       "      <td>1</td>\n",
       "      <td>True</td>\n",
       "    </tr>\n",
       "    <tr>\n",
       "      <th>23</th>\n",
       "      <td>Delta</td>\n",
       "      <td>Economy Class</td>\n",
       "      <td>Solo Leisure</td>\n",
       "      <td>June 2017</td>\n",
       "      <td>1</td>\n",
       "      <td>0</td>\n",
       "      <td>1</td>\n",
       "      <td>5</td>\n",
       "      <td>1</td>\n",
       "      <td>1</td>\n",
       "      <td>1</td>\n",
       "      <td>True</td>\n",
       "    </tr>\n",
       "    <tr>\n",
       "      <th>59</th>\n",
       "      <td>Delta</td>\n",
       "      <td>Economy Class</td>\n",
       "      <td>Business</td>\n",
       "      <td>July 2017</td>\n",
       "      <td>5</td>\n",
       "      <td>0</td>\n",
       "      <td>1</td>\n",
       "      <td>5</td>\n",
       "      <td>4</td>\n",
       "      <td>1</td>\n",
       "      <td>4</td>\n",
       "      <td>True</td>\n",
       "    </tr>\n",
       "    <tr>\n",
       "      <th>77</th>\n",
       "      <td>Delta</td>\n",
       "      <td>Economy Class</td>\n",
       "      <td>Solo Leisure</td>\n",
       "      <td>July 2017</td>\n",
       "      <td>1</td>\n",
       "      <td>3</td>\n",
       "      <td>2</td>\n",
       "      <td>4</td>\n",
       "      <td>5</td>\n",
       "      <td>3</td>\n",
       "      <td>3</td>\n",
       "      <td>True</td>\n",
       "    </tr>\n",
       "    <tr>\n",
       "      <th>153</th>\n",
       "      <td>Delta</td>\n",
       "      <td>Economy Class</td>\n",
       "      <td>Business</td>\n",
       "      <td>February 2017</td>\n",
       "      <td>4</td>\n",
       "      <td>0</td>\n",
       "      <td>1</td>\n",
       "      <td>0</td>\n",
       "      <td>1</td>\n",
       "      <td>5</td>\n",
       "      <td>3</td>\n",
       "      <td>True</td>\n",
       "    </tr>\n",
       "    <tr>\n",
       "      <th>181</th>\n",
       "      <td>Delta</td>\n",
       "      <td>Economy Class</td>\n",
       "      <td>Solo Leisure</td>\n",
       "      <td>December 2016</td>\n",
       "      <td>1</td>\n",
       "      <td>3</td>\n",
       "      <td>2</td>\n",
       "      <td>4</td>\n",
       "      <td>4</td>\n",
       "      <td>4</td>\n",
       "      <td>3</td>\n",
       "      <td>True</td>\n",
       "    </tr>\n",
       "    <tr>\n",
       "      <th>271</th>\n",
       "      <td>Delta</td>\n",
       "      <td>Economy Class</td>\n",
       "      <td>Family Leisure</td>\n",
       "      <td>July 2016</td>\n",
       "      <td>4</td>\n",
       "      <td>0</td>\n",
       "      <td>3</td>\n",
       "      <td>0</td>\n",
       "      <td>4</td>\n",
       "      <td>3</td>\n",
       "      <td>4</td>\n",
       "      <td>True</td>\n",
       "    </tr>\n",
       "    <tr>\n",
       "      <th>363</th>\n",
       "      <td>Delta</td>\n",
       "      <td>Business Class</td>\n",
       "      <td>Solo Leisure</td>\n",
       "      <td>February 2016</td>\n",
       "      <td>3</td>\n",
       "      <td>0</td>\n",
       "      <td>3</td>\n",
       "      <td>0</td>\n",
       "      <td>4</td>\n",
       "      <td>3</td>\n",
       "      <td>4</td>\n",
       "      <td>True</td>\n",
       "    </tr>\n",
       "    <tr>\n",
       "      <th>408</th>\n",
       "      <td>Delta</td>\n",
       "      <td>Economy Class</td>\n",
       "      <td>Family Leisure</td>\n",
       "      <td>December 2015</td>\n",
       "      <td>2</td>\n",
       "      <td>2</td>\n",
       "      <td>3</td>\n",
       "      <td>2</td>\n",
       "      <td>5</td>\n",
       "      <td>3</td>\n",
       "      <td>2</td>\n",
       "      <td>True</td>\n",
       "    </tr>\n",
       "    <tr>\n",
       "      <th>462</th>\n",
       "      <td>Delta</td>\n",
       "      <td>Economy Class</td>\n",
       "      <td>Couple Leisure</td>\n",
       "      <td>November 2015</td>\n",
       "      <td>3</td>\n",
       "      <td>0</td>\n",
       "      <td>3</td>\n",
       "      <td>4</td>\n",
       "      <td>4</td>\n",
       "      <td>2</td>\n",
       "      <td>1</td>\n",
       "      <td>True</td>\n",
       "    </tr>\n",
       "    <tr>\n",
       "      <th>478</th>\n",
       "      <td>Delta</td>\n",
       "      <td>Business Class</td>\n",
       "      <td>Couple Leisure</td>\n",
       "      <td>November 2015</td>\n",
       "      <td>4</td>\n",
       "      <td>4</td>\n",
       "      <td>4</td>\n",
       "      <td>2</td>\n",
       "      <td>4</td>\n",
       "      <td>1</td>\n",
       "      <td>2</td>\n",
       "      <td>True</td>\n",
       "    </tr>\n",
       "    <tr>\n",
       "      <th>519</th>\n",
       "      <td>Delta</td>\n",
       "      <td>Economy Class</td>\n",
       "      <td>Couple Leisure</td>\n",
       "      <td>September 2015</td>\n",
       "      <td>1</td>\n",
       "      <td>0</td>\n",
       "      <td>2</td>\n",
       "      <td>0</td>\n",
       "      <td>4</td>\n",
       "      <td>1</td>\n",
       "      <td>1</td>\n",
       "      <td>True</td>\n",
       "    </tr>\n",
       "    <tr>\n",
       "      <th>550</th>\n",
       "      <td>Delta</td>\n",
       "      <td>First Class</td>\n",
       "      <td>Business</td>\n",
       "      <td>August 2015</td>\n",
       "      <td>1</td>\n",
       "      <td>2</td>\n",
       "      <td>4</td>\n",
       "      <td>3</td>\n",
       "      <td>3</td>\n",
       "      <td>3</td>\n",
       "      <td>3</td>\n",
       "      <td>True</td>\n",
       "    </tr>\n",
       "    <tr>\n",
       "      <th>674</th>\n",
       "      <td>Delta</td>\n",
       "      <td>Economy Class</td>\n",
       "      <td>Unknown</td>\n",
       "      <td>Unknown</td>\n",
       "      <td>3</td>\n",
       "      <td>0</td>\n",
       "      <td>0</td>\n",
       "      <td>0</td>\n",
       "      <td>5</td>\n",
       "      <td>3</td>\n",
       "      <td>3</td>\n",
       "      <td>True</td>\n",
       "    </tr>\n",
       "    <tr>\n",
       "      <th>700</th>\n",
       "      <td>Delta</td>\n",
       "      <td>Economy Class</td>\n",
       "      <td>Unknown</td>\n",
       "      <td>Unknown</td>\n",
       "      <td>4</td>\n",
       "      <td>0</td>\n",
       "      <td>0</td>\n",
       "      <td>0</td>\n",
       "      <td>6</td>\n",
       "      <td>0</td>\n",
       "      <td>3</td>\n",
       "      <td>True</td>\n",
       "    </tr>\n",
       "    <tr>\n",
       "      <th>824</th>\n",
       "      <td>Delta</td>\n",
       "      <td>First Class</td>\n",
       "      <td>Unknown</td>\n",
       "      <td>Unknown</td>\n",
       "      <td>4</td>\n",
       "      <td>1</td>\n",
       "      <td>0</td>\n",
       "      <td>0</td>\n",
       "      <td>2</td>\n",
       "      <td>3</td>\n",
       "      <td>1</td>\n",
       "      <td>True</td>\n",
       "    </tr>\n",
       "    <tr>\n",
       "      <th>846</th>\n",
       "      <td>Delta</td>\n",
       "      <td>First Class</td>\n",
       "      <td>Unknown</td>\n",
       "      <td>Unknown</td>\n",
       "      <td>2</td>\n",
       "      <td>2</td>\n",
       "      <td>0</td>\n",
       "      <td>1</td>\n",
       "      <td>4</td>\n",
       "      <td>3</td>\n",
       "      <td>4</td>\n",
       "      <td>True</td>\n",
       "    </tr>\n",
       "  </tbody>\n",
       "</table>\n",
       "</div>"
      ],
      "text/plain": [
       "       Airline      Cabin Flown Type of Traveller      Date Flown  \\\n",
       "1       United    Economy Class      Solo Leisure    October 2017   \n",
       "187     United    Economy Class      Solo Leisure        May 2017   \n",
       "230     United    Economy Class      Solo Leisure      April 2017   \n",
       "252     United    Economy Class      Solo Leisure   February 2017   \n",
       "397     United  Premium Economy    Family Leisure     August 2016   \n",
       "436     United   Business Class          Business       July 2016   \n",
       "677     United  Premium Economy    Family Leisure    January 2016   \n",
       "844     United    Economy Class    Couple Leisure    October 2015   \n",
       "900     United    Economy Class      Solo Leisure  September 2015   \n",
       "1089    United    Economy Class           Unknown         Unknown   \n",
       "1090    United    Economy Class           Unknown         Unknown   \n",
       "1153    United    Economy Class           Unknown         Unknown   \n",
       "1342    United  Premium Economy           Unknown         Unknown   \n",
       "1450    United    Economy Class           Unknown         Unknown   \n",
       "9     American      First Class          Business     August 2017   \n",
       "40    American    Economy Class          Business     August 2017   \n",
       "73    American    Economy Class    Couple Leisure       July 2017   \n",
       "104   American  Premium Economy          Business       July 2017   \n",
       "256   American    Economy Class    Family Leisure   February 2017   \n",
       "276   American    Economy Class      Solo Leisure   February 2017   \n",
       "292   American    Economy Class      Solo Leisure    January 2017   \n",
       "364   American    Economy Class      Solo Leisure    October 2016   \n",
       "563   American      First Class    Couple Leisure       June 2016   \n",
       "609   American      First Class    Family Leisure      April 2016   \n",
       "763   American    Economy Class      Solo Leisure    January 2016   \n",
       "981   American    Economy Class          Business  September 2015   \n",
       "999   American    Economy Class      Solo Leisure     August 2015   \n",
       "1043  American   Business Class          Business     August 2015   \n",
       "1217  American    Economy Class           Unknown         Unknown   \n",
       "1279  American      First Class           Unknown         Unknown   \n",
       "1497  American      First Class           Unknown         Unknown   \n",
       "1572  American    Economy Class           Unknown         Unknown   \n",
       "1599  American    Economy Class           Unknown         Unknown   \n",
       "1620  American      First Class           Unknown         Unknown   \n",
       "23       Delta    Economy Class      Solo Leisure       June 2017   \n",
       "59       Delta    Economy Class          Business       July 2017   \n",
       "77       Delta    Economy Class      Solo Leisure       July 2017   \n",
       "153      Delta    Economy Class          Business   February 2017   \n",
       "181      Delta    Economy Class      Solo Leisure   December 2016   \n",
       "271      Delta    Economy Class    Family Leisure       July 2016   \n",
       "363      Delta   Business Class      Solo Leisure   February 2016   \n",
       "408      Delta    Economy Class    Family Leisure   December 2015   \n",
       "462      Delta    Economy Class    Couple Leisure   November 2015   \n",
       "478      Delta   Business Class    Couple Leisure   November 2015   \n",
       "519      Delta    Economy Class    Couple Leisure  September 2015   \n",
       "550      Delta      First Class          Business     August 2015   \n",
       "674      Delta    Economy Class           Unknown         Unknown   \n",
       "700      Delta    Economy Class           Unknown         Unknown   \n",
       "824      Delta      First Class           Unknown         Unknown   \n",
       "846      Delta      First Class           Unknown         Unknown   \n",
       "\n",
       "      Cabin Staff Service  Food & Beverages  Ground Service  \\\n",
       "1                       3                 1               2   \n",
       "187                     1                 0               4   \n",
       "230                     3                 2               2   \n",
       "252                     3                 1               3   \n",
       "397                     3                 3               2   \n",
       "436                     3                 3               2   \n",
       "677                     4                 1               2   \n",
       "844                     4                 1               2   \n",
       "900                     1                 1               5   \n",
       "1089                    3                 2               0   \n",
       "1090                    3                 2               0   \n",
       "1153                    0                 0               0   \n",
       "1342                    3                 1               0   \n",
       "1450                    2                 2               0   \n",
       "9                       1                 1               1   \n",
       "40                      1                 0               2   \n",
       "73                      1                 1               1   \n",
       "104                     3                 2               3   \n",
       "256                     3                 1               3   \n",
       "276                     3                 3               3   \n",
       "292                     2                 2               2   \n",
       "364                     2                 2               2   \n",
       "563                     2                 2               3   \n",
       "609                     1                 0               2   \n",
       "763                     0                 0               4   \n",
       "981                     1                 1               3   \n",
       "999                     1                 0               1   \n",
       "1043                    2                 1               2   \n",
       "1217                    3                 1               0   \n",
       "1279                    4                 1               0   \n",
       "1497                    1                 3               0   \n",
       "1572                    2                 2               0   \n",
       "1599                    3                 2               0   \n",
       "1620                    5                 1               0   \n",
       "23                      1                 0               1   \n",
       "59                      5                 0               1   \n",
       "77                      1                 3               2   \n",
       "153                     4                 0               1   \n",
       "181                     1                 3               2   \n",
       "271                     4                 0               3   \n",
       "363                     3                 0               3   \n",
       "408                     2                 2               3   \n",
       "462                     3                 0               3   \n",
       "478                     4                 4               4   \n",
       "519                     1                 0               2   \n",
       "550                     1                 2               4   \n",
       "674                     3                 0               0   \n",
       "700                     4                 0               0   \n",
       "824                     4                 1               0   \n",
       "846                     2                 2               0   \n",
       "\n",
       "      Inflight Entertainment  Rating  Value for Money  Seat Comfort  \\\n",
       "1                          2       4                2             1   \n",
       "187                        0       5                3             2   \n",
       "230                        4       5                3             2   \n",
       "252                        1       4                2             3   \n",
       "397                        4       5                2             3   \n",
       "436                        2       2                2             2   \n",
       "677                        5       5                2             2   \n",
       "844                        0       4                3             1   \n",
       "900                        1       4                3             2   \n",
       "1089                       0       7                0             3   \n",
       "1090                       0       7                0             3   \n",
       "1153                       0       7                0             0   \n",
       "1342                       1       5                3             3   \n",
       "1450                       1       2                3             1   \n",
       "9                          0       2                1             2   \n",
       "40                         4       5                3             4   \n",
       "73                         4       3                2             3   \n",
       "104                        2       4                3             1   \n",
       "256                        0       4                2             2   \n",
       "276                        0       2                2             2   \n",
       "292                        4       4                4             2   \n",
       "364                        3       4                2             2   \n",
       "563                        3       4                3             2   \n",
       "609                        5       3                3             5   \n",
       "763                        0       7                4             0   \n",
       "981                        3       6                3             3   \n",
       "999                        0       1                1             2   \n",
       "1043                       1       5                3             3   \n",
       "1217                       1       3                5             2   \n",
       "1279                       1       5                1             3   \n",
       "1497                       4       2                2             5   \n",
       "1572                       1       4                5             2   \n",
       "1599                       2       5                3             3   \n",
       "1620                       1       4                3             1   \n",
       "23                         5       1                1             1   \n",
       "59                         5       4                1             4   \n",
       "77                         4       5                3             3   \n",
       "153                        0       1                5             3   \n",
       "181                        4       4                4             3   \n",
       "271                        0       4                3             4   \n",
       "363                        0       4                3             4   \n",
       "408                        2       5                3             2   \n",
       "462                        4       4                2             1   \n",
       "478                        2       4                1             2   \n",
       "519                        0       4                1             1   \n",
       "550                        3       3                3             3   \n",
       "674                        0       5                3             3   \n",
       "700                        0       6                0             3   \n",
       "824                        0       2                3             1   \n",
       "846                        1       4                3             4   \n",
       "\n",
       "      Recommended  \n",
       "1            True  \n",
       "187          True  \n",
       "230          True  \n",
       "252          True  \n",
       "397          True  \n",
       "436          True  \n",
       "677          True  \n",
       "844          True  \n",
       "900          True  \n",
       "1089         True  \n",
       "1090         True  \n",
       "1153         True  \n",
       "1342         True  \n",
       "1450         True  \n",
       "9            True  \n",
       "40           True  \n",
       "73           True  \n",
       "104          True  \n",
       "256          True  \n",
       "276          True  \n",
       "292          True  \n",
       "364          True  \n",
       "563          True  \n",
       "609          True  \n",
       "763          True  \n",
       "981          True  \n",
       "999          True  \n",
       "1043         True  \n",
       "1217         True  \n",
       "1279         True  \n",
       "1497         True  \n",
       "1572         True  \n",
       "1599         True  \n",
       "1620         True  \n",
       "23           True  \n",
       "59           True  \n",
       "77           True  \n",
       "153          True  \n",
       "181          True  \n",
       "271          True  \n",
       "363          True  \n",
       "408          True  \n",
       "462          True  \n",
       "478          True  \n",
       "519          True  \n",
       "550          True  \n",
       "674          True  \n",
       "700          True  \n",
       "824          True  \n",
       "846          True  "
      ]
     },
     "execution_count": 56,
     "metadata": {},
     "output_type": "execute_result"
    }
   ],
   "source": [
    "dfAirline[~pred & dfAirline.Recommended]"
   ]
  },
  {
   "cell_type": "code",
   "execution_count": 57,
   "metadata": {
    "scrolled": true
   },
   "outputs": [
    {
     "data": {
      "text/html": [
       "<div>\n",
       "<style scoped>\n",
       "    .dataframe tbody tr th:only-of-type {\n",
       "        vertical-align: middle;\n",
       "    }\n",
       "\n",
       "    .dataframe tbody tr th {\n",
       "        vertical-align: top;\n",
       "    }\n",
       "\n",
       "    .dataframe thead th {\n",
       "        text-align: right;\n",
       "    }\n",
       "</style>\n",
       "<table border=\"1\" class=\"dataframe\">\n",
       "  <thead>\n",
       "    <tr style=\"text-align: right;\">\n",
       "      <th></th>\n",
       "      <th>Cabin Flown</th>\n",
       "      <th>Type of Traveller</th>\n",
       "      <th>Date Flown</th>\n",
       "      <th>Cabin Staff Service</th>\n",
       "      <th>Food &amp; Beverages</th>\n",
       "      <th>Ground Service</th>\n",
       "      <th>Inflight Entertainment</th>\n",
       "      <th>Rating</th>\n",
       "      <th>Value for Money</th>\n",
       "      <th>Seat Comfort</th>\n",
       "      <th>Recommended</th>\n",
       "    </tr>\n",
       "    <tr>\n",
       "      <th>Airline</th>\n",
       "      <th></th>\n",
       "      <th></th>\n",
       "      <th></th>\n",
       "      <th></th>\n",
       "      <th></th>\n",
       "      <th></th>\n",
       "      <th></th>\n",
       "      <th></th>\n",
       "      <th></th>\n",
       "      <th></th>\n",
       "      <th></th>\n",
       "    </tr>\n",
       "  </thead>\n",
       "  <tbody>\n",
       "    <tr>\n",
       "      <th>American</th>\n",
       "      <td>20</td>\n",
       "      <td>20</td>\n",
       "      <td>20</td>\n",
       "      <td>20</td>\n",
       "      <td>20</td>\n",
       "      <td>20</td>\n",
       "      <td>20</td>\n",
       "      <td>20</td>\n",
       "      <td>20</td>\n",
       "      <td>20</td>\n",
       "      <td>20</td>\n",
       "    </tr>\n",
       "    <tr>\n",
       "      <th>Delta</th>\n",
       "      <td>16</td>\n",
       "      <td>16</td>\n",
       "      <td>16</td>\n",
       "      <td>16</td>\n",
       "      <td>16</td>\n",
       "      <td>16</td>\n",
       "      <td>16</td>\n",
       "      <td>16</td>\n",
       "      <td>16</td>\n",
       "      <td>16</td>\n",
       "      <td>16</td>\n",
       "    </tr>\n",
       "    <tr>\n",
       "      <th>United</th>\n",
       "      <td>14</td>\n",
       "      <td>14</td>\n",
       "      <td>14</td>\n",
       "      <td>14</td>\n",
       "      <td>14</td>\n",
       "      <td>14</td>\n",
       "      <td>14</td>\n",
       "      <td>14</td>\n",
       "      <td>14</td>\n",
       "      <td>14</td>\n",
       "      <td>14</td>\n",
       "    </tr>\n",
       "  </tbody>\n",
       "</table>\n",
       "</div>"
      ],
      "text/plain": [
       "          Cabin Flown  Type of Traveller  Date Flown  Cabin Staff Service  \\\n",
       "Airline                                                                     \n",
       "American           20                 20          20                   20   \n",
       "Delta              16                 16          16                   16   \n",
       "United             14                 14          14                   14   \n",
       "\n",
       "          Food & Beverages  Ground Service  Inflight Entertainment  Rating  \\\n",
       "Airline                                                                      \n",
       "American                20              20                      20      20   \n",
       "Delta                   16              16                      16      16   \n",
       "United                  14              14                      14      14   \n",
       "\n",
       "          Value for Money  Seat Comfort  Recommended  \n",
       "Airline                                               \n",
       "American               20            20           20  \n",
       "Delta                  16            16           16  \n",
       "United                 14            14           14  "
      ]
     },
     "execution_count": 57,
     "metadata": {},
     "output_type": "execute_result"
    }
   ],
   "source": [
    "dfAirline[~pred & dfAirline.Recommended].groupby('Airline').count()"
   ]
  },
  {
   "cell_type": "markdown",
   "metadata": {},
   "source": [
    "###### There are 50 total FPs. American has 20, Delta has 16, and United has 14."
   ]
  },
  {
   "cell_type": "markdown",
   "metadata": {},
   "source": [
    "### Testing Feature Importance"
   ]
  },
  {
   "cell_type": "code",
   "execution_count": 58,
   "metadata": {},
   "outputs": [
    {
     "data": {
      "text/plain": [
       "array([[0.56990199, 0.43009801]])"
      ]
     },
     "execution_count": 58,
     "metadata": {},
     "output_type": "execute_result"
    }
   ],
   "source": [
    "gnb.predict_proba([[5, 0, 0, 0, 10, 0, 0]])"
   ]
  },
  {
   "cell_type": "code",
   "execution_count": 59,
   "metadata": {},
   "outputs": [
    {
     "data": {
      "text/plain": [
       "array([[3.81716799e-04, 9.99618283e-01]])"
      ]
     },
     "execution_count": 59,
     "metadata": {},
     "output_type": "execute_result"
    }
   ],
   "source": [
    "gnb.predict_proba([[0, 0, 0, 0, 10, 5, 0]])"
   ]
  },
  {
   "cell_type": "code",
   "execution_count": 60,
   "metadata": {},
   "outputs": [
    {
     "data": {
      "text/plain": [
       "array([[0.69144107, 0.30855893]])"
      ]
     },
     "execution_count": 60,
     "metadata": {},
     "output_type": "execute_result"
    }
   ],
   "source": [
    "gnb.predict_proba([[0, 0, 0, 0, 10, 0, 5]])"
   ]
  },
  {
   "cell_type": "code",
   "execution_count": 61,
   "metadata": {},
   "outputs": [
    {
     "data": {
      "text/plain": [
       "array([[1.00000000e+00, 3.44300918e-11]])"
      ]
     },
     "execution_count": 61,
     "metadata": {},
     "output_type": "execute_result"
    }
   ],
   "source": [
    "gnb.predict_proba([[0, 5, 5, 5, 0, 0, 0]]) #Max score for three variables results in ~100% Negative"
   ]
  },
  {
   "cell_type": "markdown",
   "metadata": {},
   "source": [
    "###### The most important features appear to be Cabin Staff Service, Rating, Value for Money, and Seat Comfort."
   ]
  },
  {
   "cell_type": "markdown",
   "metadata": {},
   "source": [
    "### False Negatives"
   ]
  },
  {
   "cell_type": "code",
   "execution_count": 62,
   "metadata": {},
   "outputs": [
    {
     "data": {
      "text/html": [
       "<div>\n",
       "<style scoped>\n",
       "    .dataframe tbody tr th:only-of-type {\n",
       "        vertical-align: middle;\n",
       "    }\n",
       "\n",
       "    .dataframe tbody tr th {\n",
       "        vertical-align: top;\n",
       "    }\n",
       "\n",
       "    .dataframe thead th {\n",
       "        text-align: right;\n",
       "    }\n",
       "</style>\n",
       "<table border=\"1\" class=\"dataframe\">\n",
       "  <thead>\n",
       "    <tr style=\"text-align: right;\">\n",
       "      <th></th>\n",
       "      <th>Airline</th>\n",
       "      <th>Cabin Flown</th>\n",
       "      <th>Type of Traveller</th>\n",
       "      <th>Date Flown</th>\n",
       "      <th>Cabin Staff Service</th>\n",
       "      <th>Food &amp; Beverages</th>\n",
       "      <th>Ground Service</th>\n",
       "      <th>Inflight Entertainment</th>\n",
       "      <th>Rating</th>\n",
       "      <th>Value for Money</th>\n",
       "      <th>Seat Comfort</th>\n",
       "      <th>Recommended</th>\n",
       "    </tr>\n",
       "  </thead>\n",
       "  <tbody>\n",
       "    <tr>\n",
       "      <th>1</th>\n",
       "      <td>United</td>\n",
       "      <td>Economy Class</td>\n",
       "      <td>Solo Leisure</td>\n",
       "      <td>October 2017</td>\n",
       "      <td>3</td>\n",
       "      <td>1</td>\n",
       "      <td>2</td>\n",
       "      <td>2</td>\n",
       "      <td>4</td>\n",
       "      <td>2</td>\n",
       "      <td>1</td>\n",
       "      <td>True</td>\n",
       "    </tr>\n",
       "    <tr>\n",
       "      <th>187</th>\n",
       "      <td>United</td>\n",
       "      <td>Economy Class</td>\n",
       "      <td>Solo Leisure</td>\n",
       "      <td>May 2017</td>\n",
       "      <td>1</td>\n",
       "      <td>0</td>\n",
       "      <td>4</td>\n",
       "      <td>0</td>\n",
       "      <td>5</td>\n",
       "      <td>3</td>\n",
       "      <td>2</td>\n",
       "      <td>True</td>\n",
       "    </tr>\n",
       "    <tr>\n",
       "      <th>230</th>\n",
       "      <td>United</td>\n",
       "      <td>Economy Class</td>\n",
       "      <td>Solo Leisure</td>\n",
       "      <td>April 2017</td>\n",
       "      <td>3</td>\n",
       "      <td>2</td>\n",
       "      <td>2</td>\n",
       "      <td>4</td>\n",
       "      <td>5</td>\n",
       "      <td>3</td>\n",
       "      <td>2</td>\n",
       "      <td>True</td>\n",
       "    </tr>\n",
       "    <tr>\n",
       "      <th>252</th>\n",
       "      <td>United</td>\n",
       "      <td>Economy Class</td>\n",
       "      <td>Solo Leisure</td>\n",
       "      <td>February 2017</td>\n",
       "      <td>3</td>\n",
       "      <td>1</td>\n",
       "      <td>3</td>\n",
       "      <td>1</td>\n",
       "      <td>4</td>\n",
       "      <td>2</td>\n",
       "      <td>3</td>\n",
       "      <td>True</td>\n",
       "    </tr>\n",
       "    <tr>\n",
       "      <th>397</th>\n",
       "      <td>United</td>\n",
       "      <td>Premium Economy</td>\n",
       "      <td>Family Leisure</td>\n",
       "      <td>August 2016</td>\n",
       "      <td>3</td>\n",
       "      <td>3</td>\n",
       "      <td>2</td>\n",
       "      <td>4</td>\n",
       "      <td>5</td>\n",
       "      <td>2</td>\n",
       "      <td>3</td>\n",
       "      <td>True</td>\n",
       "    </tr>\n",
       "    <tr>\n",
       "      <th>436</th>\n",
       "      <td>United</td>\n",
       "      <td>Business Class</td>\n",
       "      <td>Business</td>\n",
       "      <td>July 2016</td>\n",
       "      <td>3</td>\n",
       "      <td>3</td>\n",
       "      <td>2</td>\n",
       "      <td>2</td>\n",
       "      <td>2</td>\n",
       "      <td>2</td>\n",
       "      <td>2</td>\n",
       "      <td>True</td>\n",
       "    </tr>\n",
       "    <tr>\n",
       "      <th>677</th>\n",
       "      <td>United</td>\n",
       "      <td>Premium Economy</td>\n",
       "      <td>Family Leisure</td>\n",
       "      <td>January 2016</td>\n",
       "      <td>4</td>\n",
       "      <td>1</td>\n",
       "      <td>2</td>\n",
       "      <td>5</td>\n",
       "      <td>5</td>\n",
       "      <td>2</td>\n",
       "      <td>2</td>\n",
       "      <td>True</td>\n",
       "    </tr>\n",
       "    <tr>\n",
       "      <th>844</th>\n",
       "      <td>United</td>\n",
       "      <td>Economy Class</td>\n",
       "      <td>Couple Leisure</td>\n",
       "      <td>October 2015</td>\n",
       "      <td>4</td>\n",
       "      <td>1</td>\n",
       "      <td>2</td>\n",
       "      <td>0</td>\n",
       "      <td>4</td>\n",
       "      <td>3</td>\n",
       "      <td>1</td>\n",
       "      <td>True</td>\n",
       "    </tr>\n",
       "    <tr>\n",
       "      <th>900</th>\n",
       "      <td>United</td>\n",
       "      <td>Economy Class</td>\n",
       "      <td>Solo Leisure</td>\n",
       "      <td>September 2015</td>\n",
       "      <td>1</td>\n",
       "      <td>1</td>\n",
       "      <td>5</td>\n",
       "      <td>1</td>\n",
       "      <td>4</td>\n",
       "      <td>3</td>\n",
       "      <td>2</td>\n",
       "      <td>True</td>\n",
       "    </tr>\n",
       "    <tr>\n",
       "      <th>1089</th>\n",
       "      <td>United</td>\n",
       "      <td>Economy Class</td>\n",
       "      <td>Unknown</td>\n",
       "      <td>Unknown</td>\n",
       "      <td>3</td>\n",
       "      <td>2</td>\n",
       "      <td>0</td>\n",
       "      <td>0</td>\n",
       "      <td>7</td>\n",
       "      <td>0</td>\n",
       "      <td>3</td>\n",
       "      <td>True</td>\n",
       "    </tr>\n",
       "    <tr>\n",
       "      <th>1090</th>\n",
       "      <td>United</td>\n",
       "      <td>Economy Class</td>\n",
       "      <td>Unknown</td>\n",
       "      <td>Unknown</td>\n",
       "      <td>3</td>\n",
       "      <td>2</td>\n",
       "      <td>0</td>\n",
       "      <td>0</td>\n",
       "      <td>7</td>\n",
       "      <td>0</td>\n",
       "      <td>3</td>\n",
       "      <td>True</td>\n",
       "    </tr>\n",
       "    <tr>\n",
       "      <th>1153</th>\n",
       "      <td>United</td>\n",
       "      <td>Economy Class</td>\n",
       "      <td>Unknown</td>\n",
       "      <td>Unknown</td>\n",
       "      <td>0</td>\n",
       "      <td>0</td>\n",
       "      <td>0</td>\n",
       "      <td>0</td>\n",
       "      <td>7</td>\n",
       "      <td>0</td>\n",
       "      <td>0</td>\n",
       "      <td>True</td>\n",
       "    </tr>\n",
       "    <tr>\n",
       "      <th>1342</th>\n",
       "      <td>United</td>\n",
       "      <td>Premium Economy</td>\n",
       "      <td>Unknown</td>\n",
       "      <td>Unknown</td>\n",
       "      <td>3</td>\n",
       "      <td>1</td>\n",
       "      <td>0</td>\n",
       "      <td>1</td>\n",
       "      <td>5</td>\n",
       "      <td>3</td>\n",
       "      <td>3</td>\n",
       "      <td>True</td>\n",
       "    </tr>\n",
       "    <tr>\n",
       "      <th>1450</th>\n",
       "      <td>United</td>\n",
       "      <td>Economy Class</td>\n",
       "      <td>Unknown</td>\n",
       "      <td>Unknown</td>\n",
       "      <td>2</td>\n",
       "      <td>2</td>\n",
       "      <td>0</td>\n",
       "      <td>1</td>\n",
       "      <td>2</td>\n",
       "      <td>3</td>\n",
       "      <td>1</td>\n",
       "      <td>True</td>\n",
       "    </tr>\n",
       "    <tr>\n",
       "      <th>9</th>\n",
       "      <td>American</td>\n",
       "      <td>First Class</td>\n",
       "      <td>Business</td>\n",
       "      <td>August 2017</td>\n",
       "      <td>1</td>\n",
       "      <td>1</td>\n",
       "      <td>1</td>\n",
       "      <td>0</td>\n",
       "      <td>2</td>\n",
       "      <td>1</td>\n",
       "      <td>2</td>\n",
       "      <td>True</td>\n",
       "    </tr>\n",
       "    <tr>\n",
       "      <th>40</th>\n",
       "      <td>American</td>\n",
       "      <td>Economy Class</td>\n",
       "      <td>Business</td>\n",
       "      <td>August 2017</td>\n",
       "      <td>1</td>\n",
       "      <td>0</td>\n",
       "      <td>2</td>\n",
       "      <td>4</td>\n",
       "      <td>5</td>\n",
       "      <td>3</td>\n",
       "      <td>4</td>\n",
       "      <td>True</td>\n",
       "    </tr>\n",
       "    <tr>\n",
       "      <th>73</th>\n",
       "      <td>American</td>\n",
       "      <td>Economy Class</td>\n",
       "      <td>Couple Leisure</td>\n",
       "      <td>July 2017</td>\n",
       "      <td>1</td>\n",
       "      <td>1</td>\n",
       "      <td>1</td>\n",
       "      <td>4</td>\n",
       "      <td>3</td>\n",
       "      <td>2</td>\n",
       "      <td>3</td>\n",
       "      <td>True</td>\n",
       "    </tr>\n",
       "    <tr>\n",
       "      <th>104</th>\n",
       "      <td>American</td>\n",
       "      <td>Premium Economy</td>\n",
       "      <td>Business</td>\n",
       "      <td>July 2017</td>\n",
       "      <td>3</td>\n",
       "      <td>2</td>\n",
       "      <td>3</td>\n",
       "      <td>2</td>\n",
       "      <td>4</td>\n",
       "      <td>3</td>\n",
       "      <td>1</td>\n",
       "      <td>True</td>\n",
       "    </tr>\n",
       "    <tr>\n",
       "      <th>256</th>\n",
       "      <td>American</td>\n",
       "      <td>Economy Class</td>\n",
       "      <td>Family Leisure</td>\n",
       "      <td>February 2017</td>\n",
       "      <td>3</td>\n",
       "      <td>1</td>\n",
       "      <td>3</td>\n",
       "      <td>0</td>\n",
       "      <td>4</td>\n",
       "      <td>2</td>\n",
       "      <td>2</td>\n",
       "      <td>True</td>\n",
       "    </tr>\n",
       "    <tr>\n",
       "      <th>276</th>\n",
       "      <td>American</td>\n",
       "      <td>Economy Class</td>\n",
       "      <td>Solo Leisure</td>\n",
       "      <td>February 2017</td>\n",
       "      <td>3</td>\n",
       "      <td>3</td>\n",
       "      <td>3</td>\n",
       "      <td>0</td>\n",
       "      <td>2</td>\n",
       "      <td>2</td>\n",
       "      <td>2</td>\n",
       "      <td>True</td>\n",
       "    </tr>\n",
       "    <tr>\n",
       "      <th>292</th>\n",
       "      <td>American</td>\n",
       "      <td>Economy Class</td>\n",
       "      <td>Solo Leisure</td>\n",
       "      <td>January 2017</td>\n",
       "      <td>2</td>\n",
       "      <td>2</td>\n",
       "      <td>2</td>\n",
       "      <td>4</td>\n",
       "      <td>4</td>\n",
       "      <td>4</td>\n",
       "      <td>2</td>\n",
       "      <td>True</td>\n",
       "    </tr>\n",
       "    <tr>\n",
       "      <th>364</th>\n",
       "      <td>American</td>\n",
       "      <td>Economy Class</td>\n",
       "      <td>Solo Leisure</td>\n",
       "      <td>October 2016</td>\n",
       "      <td>2</td>\n",
       "      <td>2</td>\n",
       "      <td>2</td>\n",
       "      <td>3</td>\n",
       "      <td>4</td>\n",
       "      <td>2</td>\n",
       "      <td>2</td>\n",
       "      <td>True</td>\n",
       "    </tr>\n",
       "    <tr>\n",
       "      <th>563</th>\n",
       "      <td>American</td>\n",
       "      <td>First Class</td>\n",
       "      <td>Couple Leisure</td>\n",
       "      <td>June 2016</td>\n",
       "      <td>2</td>\n",
       "      <td>2</td>\n",
       "      <td>3</td>\n",
       "      <td>3</td>\n",
       "      <td>4</td>\n",
       "      <td>3</td>\n",
       "      <td>2</td>\n",
       "      <td>True</td>\n",
       "    </tr>\n",
       "    <tr>\n",
       "      <th>609</th>\n",
       "      <td>American</td>\n",
       "      <td>First Class</td>\n",
       "      <td>Family Leisure</td>\n",
       "      <td>April 2016</td>\n",
       "      <td>1</td>\n",
       "      <td>0</td>\n",
       "      <td>2</td>\n",
       "      <td>5</td>\n",
       "      <td>3</td>\n",
       "      <td>3</td>\n",
       "      <td>5</td>\n",
       "      <td>True</td>\n",
       "    </tr>\n",
       "    <tr>\n",
       "      <th>763</th>\n",
       "      <td>American</td>\n",
       "      <td>Economy Class</td>\n",
       "      <td>Solo Leisure</td>\n",
       "      <td>January 2016</td>\n",
       "      <td>0</td>\n",
       "      <td>0</td>\n",
       "      <td>4</td>\n",
       "      <td>0</td>\n",
       "      <td>7</td>\n",
       "      <td>4</td>\n",
       "      <td>0</td>\n",
       "      <td>True</td>\n",
       "    </tr>\n",
       "    <tr>\n",
       "      <th>981</th>\n",
       "      <td>American</td>\n",
       "      <td>Economy Class</td>\n",
       "      <td>Business</td>\n",
       "      <td>September 2015</td>\n",
       "      <td>1</td>\n",
       "      <td>1</td>\n",
       "      <td>3</td>\n",
       "      <td>3</td>\n",
       "      <td>6</td>\n",
       "      <td>3</td>\n",
       "      <td>3</td>\n",
       "      <td>True</td>\n",
       "    </tr>\n",
       "    <tr>\n",
       "      <th>999</th>\n",
       "      <td>American</td>\n",
       "      <td>Economy Class</td>\n",
       "      <td>Solo Leisure</td>\n",
       "      <td>August 2015</td>\n",
       "      <td>1</td>\n",
       "      <td>0</td>\n",
       "      <td>1</td>\n",
       "      <td>0</td>\n",
       "      <td>1</td>\n",
       "      <td>1</td>\n",
       "      <td>2</td>\n",
       "      <td>True</td>\n",
       "    </tr>\n",
       "    <tr>\n",
       "      <th>1043</th>\n",
       "      <td>American</td>\n",
       "      <td>Business Class</td>\n",
       "      <td>Business</td>\n",
       "      <td>August 2015</td>\n",
       "      <td>2</td>\n",
       "      <td>1</td>\n",
       "      <td>2</td>\n",
       "      <td>1</td>\n",
       "      <td>5</td>\n",
       "      <td>3</td>\n",
       "      <td>3</td>\n",
       "      <td>True</td>\n",
       "    </tr>\n",
       "    <tr>\n",
       "      <th>1217</th>\n",
       "      <td>American</td>\n",
       "      <td>Economy Class</td>\n",
       "      <td>Unknown</td>\n",
       "      <td>Unknown</td>\n",
       "      <td>3</td>\n",
       "      <td>1</td>\n",
       "      <td>0</td>\n",
       "      <td>1</td>\n",
       "      <td>3</td>\n",
       "      <td>5</td>\n",
       "      <td>2</td>\n",
       "      <td>True</td>\n",
       "    </tr>\n",
       "    <tr>\n",
       "      <th>1279</th>\n",
       "      <td>American</td>\n",
       "      <td>First Class</td>\n",
       "      <td>Unknown</td>\n",
       "      <td>Unknown</td>\n",
       "      <td>4</td>\n",
       "      <td>1</td>\n",
       "      <td>0</td>\n",
       "      <td>1</td>\n",
       "      <td>5</td>\n",
       "      <td>1</td>\n",
       "      <td>3</td>\n",
       "      <td>True</td>\n",
       "    </tr>\n",
       "    <tr>\n",
       "      <th>1497</th>\n",
       "      <td>American</td>\n",
       "      <td>First Class</td>\n",
       "      <td>Unknown</td>\n",
       "      <td>Unknown</td>\n",
       "      <td>1</td>\n",
       "      <td>3</td>\n",
       "      <td>0</td>\n",
       "      <td>4</td>\n",
       "      <td>2</td>\n",
       "      <td>2</td>\n",
       "      <td>5</td>\n",
       "      <td>True</td>\n",
       "    </tr>\n",
       "    <tr>\n",
       "      <th>1572</th>\n",
       "      <td>American</td>\n",
       "      <td>Economy Class</td>\n",
       "      <td>Unknown</td>\n",
       "      <td>Unknown</td>\n",
       "      <td>2</td>\n",
       "      <td>2</td>\n",
       "      <td>0</td>\n",
       "      <td>1</td>\n",
       "      <td>4</td>\n",
       "      <td>5</td>\n",
       "      <td>2</td>\n",
       "      <td>True</td>\n",
       "    </tr>\n",
       "    <tr>\n",
       "      <th>1599</th>\n",
       "      <td>American</td>\n",
       "      <td>Economy Class</td>\n",
       "      <td>Unknown</td>\n",
       "      <td>Unknown</td>\n",
       "      <td>3</td>\n",
       "      <td>2</td>\n",
       "      <td>0</td>\n",
       "      <td>2</td>\n",
       "      <td>5</td>\n",
       "      <td>3</td>\n",
       "      <td>3</td>\n",
       "      <td>True</td>\n",
       "    </tr>\n",
       "    <tr>\n",
       "      <th>1620</th>\n",
       "      <td>American</td>\n",
       "      <td>First Class</td>\n",
       "      <td>Unknown</td>\n",
       "      <td>Unknown</td>\n",
       "      <td>5</td>\n",
       "      <td>1</td>\n",
       "      <td>0</td>\n",
       "      <td>1</td>\n",
       "      <td>4</td>\n",
       "      <td>3</td>\n",
       "      <td>1</td>\n",
       "      <td>True</td>\n",
       "    </tr>\n",
       "    <tr>\n",
       "      <th>23</th>\n",
       "      <td>Delta</td>\n",
       "      <td>Economy Class</td>\n",
       "      <td>Solo Leisure</td>\n",
       "      <td>June 2017</td>\n",
       "      <td>1</td>\n",
       "      <td>0</td>\n",
       "      <td>1</td>\n",
       "      <td>5</td>\n",
       "      <td>1</td>\n",
       "      <td>1</td>\n",
       "      <td>1</td>\n",
       "      <td>True</td>\n",
       "    </tr>\n",
       "    <tr>\n",
       "      <th>59</th>\n",
       "      <td>Delta</td>\n",
       "      <td>Economy Class</td>\n",
       "      <td>Business</td>\n",
       "      <td>July 2017</td>\n",
       "      <td>5</td>\n",
       "      <td>0</td>\n",
       "      <td>1</td>\n",
       "      <td>5</td>\n",
       "      <td>4</td>\n",
       "      <td>1</td>\n",
       "      <td>4</td>\n",
       "      <td>True</td>\n",
       "    </tr>\n",
       "    <tr>\n",
       "      <th>77</th>\n",
       "      <td>Delta</td>\n",
       "      <td>Economy Class</td>\n",
       "      <td>Solo Leisure</td>\n",
       "      <td>July 2017</td>\n",
       "      <td>1</td>\n",
       "      <td>3</td>\n",
       "      <td>2</td>\n",
       "      <td>4</td>\n",
       "      <td>5</td>\n",
       "      <td>3</td>\n",
       "      <td>3</td>\n",
       "      <td>True</td>\n",
       "    </tr>\n",
       "    <tr>\n",
       "      <th>153</th>\n",
       "      <td>Delta</td>\n",
       "      <td>Economy Class</td>\n",
       "      <td>Business</td>\n",
       "      <td>February 2017</td>\n",
       "      <td>4</td>\n",
       "      <td>0</td>\n",
       "      <td>1</td>\n",
       "      <td>0</td>\n",
       "      <td>1</td>\n",
       "      <td>5</td>\n",
       "      <td>3</td>\n",
       "      <td>True</td>\n",
       "    </tr>\n",
       "    <tr>\n",
       "      <th>181</th>\n",
       "      <td>Delta</td>\n",
       "      <td>Economy Class</td>\n",
       "      <td>Solo Leisure</td>\n",
       "      <td>December 2016</td>\n",
       "      <td>1</td>\n",
       "      <td>3</td>\n",
       "      <td>2</td>\n",
       "      <td>4</td>\n",
       "      <td>4</td>\n",
       "      <td>4</td>\n",
       "      <td>3</td>\n",
       "      <td>True</td>\n",
       "    </tr>\n",
       "    <tr>\n",
       "      <th>271</th>\n",
       "      <td>Delta</td>\n",
       "      <td>Economy Class</td>\n",
       "      <td>Family Leisure</td>\n",
       "      <td>July 2016</td>\n",
       "      <td>4</td>\n",
       "      <td>0</td>\n",
       "      <td>3</td>\n",
       "      <td>0</td>\n",
       "      <td>4</td>\n",
       "      <td>3</td>\n",
       "      <td>4</td>\n",
       "      <td>True</td>\n",
       "    </tr>\n",
       "    <tr>\n",
       "      <th>363</th>\n",
       "      <td>Delta</td>\n",
       "      <td>Business Class</td>\n",
       "      <td>Solo Leisure</td>\n",
       "      <td>February 2016</td>\n",
       "      <td>3</td>\n",
       "      <td>0</td>\n",
       "      <td>3</td>\n",
       "      <td>0</td>\n",
       "      <td>4</td>\n",
       "      <td>3</td>\n",
       "      <td>4</td>\n",
       "      <td>True</td>\n",
       "    </tr>\n",
       "    <tr>\n",
       "      <th>408</th>\n",
       "      <td>Delta</td>\n",
       "      <td>Economy Class</td>\n",
       "      <td>Family Leisure</td>\n",
       "      <td>December 2015</td>\n",
       "      <td>2</td>\n",
       "      <td>2</td>\n",
       "      <td>3</td>\n",
       "      <td>2</td>\n",
       "      <td>5</td>\n",
       "      <td>3</td>\n",
       "      <td>2</td>\n",
       "      <td>True</td>\n",
       "    </tr>\n",
       "    <tr>\n",
       "      <th>462</th>\n",
       "      <td>Delta</td>\n",
       "      <td>Economy Class</td>\n",
       "      <td>Couple Leisure</td>\n",
       "      <td>November 2015</td>\n",
       "      <td>3</td>\n",
       "      <td>0</td>\n",
       "      <td>3</td>\n",
       "      <td>4</td>\n",
       "      <td>4</td>\n",
       "      <td>2</td>\n",
       "      <td>1</td>\n",
       "      <td>True</td>\n",
       "    </tr>\n",
       "    <tr>\n",
       "      <th>478</th>\n",
       "      <td>Delta</td>\n",
       "      <td>Business Class</td>\n",
       "      <td>Couple Leisure</td>\n",
       "      <td>November 2015</td>\n",
       "      <td>4</td>\n",
       "      <td>4</td>\n",
       "      <td>4</td>\n",
       "      <td>2</td>\n",
       "      <td>4</td>\n",
       "      <td>1</td>\n",
       "      <td>2</td>\n",
       "      <td>True</td>\n",
       "    </tr>\n",
       "    <tr>\n",
       "      <th>519</th>\n",
       "      <td>Delta</td>\n",
       "      <td>Economy Class</td>\n",
       "      <td>Couple Leisure</td>\n",
       "      <td>September 2015</td>\n",
       "      <td>1</td>\n",
       "      <td>0</td>\n",
       "      <td>2</td>\n",
       "      <td>0</td>\n",
       "      <td>4</td>\n",
       "      <td>1</td>\n",
       "      <td>1</td>\n",
       "      <td>True</td>\n",
       "    </tr>\n",
       "    <tr>\n",
       "      <th>550</th>\n",
       "      <td>Delta</td>\n",
       "      <td>First Class</td>\n",
       "      <td>Business</td>\n",
       "      <td>August 2015</td>\n",
       "      <td>1</td>\n",
       "      <td>2</td>\n",
       "      <td>4</td>\n",
       "      <td>3</td>\n",
       "      <td>3</td>\n",
       "      <td>3</td>\n",
       "      <td>3</td>\n",
       "      <td>True</td>\n",
       "    </tr>\n",
       "    <tr>\n",
       "      <th>674</th>\n",
       "      <td>Delta</td>\n",
       "      <td>Economy Class</td>\n",
       "      <td>Unknown</td>\n",
       "      <td>Unknown</td>\n",
       "      <td>3</td>\n",
       "      <td>0</td>\n",
       "      <td>0</td>\n",
       "      <td>0</td>\n",
       "      <td>5</td>\n",
       "      <td>3</td>\n",
       "      <td>3</td>\n",
       "      <td>True</td>\n",
       "    </tr>\n",
       "    <tr>\n",
       "      <th>700</th>\n",
       "      <td>Delta</td>\n",
       "      <td>Economy Class</td>\n",
       "      <td>Unknown</td>\n",
       "      <td>Unknown</td>\n",
       "      <td>4</td>\n",
       "      <td>0</td>\n",
       "      <td>0</td>\n",
       "      <td>0</td>\n",
       "      <td>6</td>\n",
       "      <td>0</td>\n",
       "      <td>3</td>\n",
       "      <td>True</td>\n",
       "    </tr>\n",
       "    <tr>\n",
       "      <th>824</th>\n",
       "      <td>Delta</td>\n",
       "      <td>First Class</td>\n",
       "      <td>Unknown</td>\n",
       "      <td>Unknown</td>\n",
       "      <td>4</td>\n",
       "      <td>1</td>\n",
       "      <td>0</td>\n",
       "      <td>0</td>\n",
       "      <td>2</td>\n",
       "      <td>3</td>\n",
       "      <td>1</td>\n",
       "      <td>True</td>\n",
       "    </tr>\n",
       "    <tr>\n",
       "      <th>846</th>\n",
       "      <td>Delta</td>\n",
       "      <td>First Class</td>\n",
       "      <td>Unknown</td>\n",
       "      <td>Unknown</td>\n",
       "      <td>2</td>\n",
       "      <td>2</td>\n",
       "      <td>0</td>\n",
       "      <td>1</td>\n",
       "      <td>4</td>\n",
       "      <td>3</td>\n",
       "      <td>4</td>\n",
       "      <td>True</td>\n",
       "    </tr>\n",
       "  </tbody>\n",
       "</table>\n",
       "</div>"
      ],
      "text/plain": [
       "       Airline      Cabin Flown Type of Traveller      Date Flown  \\\n",
       "1       United    Economy Class      Solo Leisure    October 2017   \n",
       "187     United    Economy Class      Solo Leisure        May 2017   \n",
       "230     United    Economy Class      Solo Leisure      April 2017   \n",
       "252     United    Economy Class      Solo Leisure   February 2017   \n",
       "397     United  Premium Economy    Family Leisure     August 2016   \n",
       "436     United   Business Class          Business       July 2016   \n",
       "677     United  Premium Economy    Family Leisure    January 2016   \n",
       "844     United    Economy Class    Couple Leisure    October 2015   \n",
       "900     United    Economy Class      Solo Leisure  September 2015   \n",
       "1089    United    Economy Class           Unknown         Unknown   \n",
       "1090    United    Economy Class           Unknown         Unknown   \n",
       "1153    United    Economy Class           Unknown         Unknown   \n",
       "1342    United  Premium Economy           Unknown         Unknown   \n",
       "1450    United    Economy Class           Unknown         Unknown   \n",
       "9     American      First Class          Business     August 2017   \n",
       "40    American    Economy Class          Business     August 2017   \n",
       "73    American    Economy Class    Couple Leisure       July 2017   \n",
       "104   American  Premium Economy          Business       July 2017   \n",
       "256   American    Economy Class    Family Leisure   February 2017   \n",
       "276   American    Economy Class      Solo Leisure   February 2017   \n",
       "292   American    Economy Class      Solo Leisure    January 2017   \n",
       "364   American    Economy Class      Solo Leisure    October 2016   \n",
       "563   American      First Class    Couple Leisure       June 2016   \n",
       "609   American      First Class    Family Leisure      April 2016   \n",
       "763   American    Economy Class      Solo Leisure    January 2016   \n",
       "981   American    Economy Class          Business  September 2015   \n",
       "999   American    Economy Class      Solo Leisure     August 2015   \n",
       "1043  American   Business Class          Business     August 2015   \n",
       "1217  American    Economy Class           Unknown         Unknown   \n",
       "1279  American      First Class           Unknown         Unknown   \n",
       "1497  American      First Class           Unknown         Unknown   \n",
       "1572  American    Economy Class           Unknown         Unknown   \n",
       "1599  American    Economy Class           Unknown         Unknown   \n",
       "1620  American      First Class           Unknown         Unknown   \n",
       "23       Delta    Economy Class      Solo Leisure       June 2017   \n",
       "59       Delta    Economy Class          Business       July 2017   \n",
       "77       Delta    Economy Class      Solo Leisure       July 2017   \n",
       "153      Delta    Economy Class          Business   February 2017   \n",
       "181      Delta    Economy Class      Solo Leisure   December 2016   \n",
       "271      Delta    Economy Class    Family Leisure       July 2016   \n",
       "363      Delta   Business Class      Solo Leisure   February 2016   \n",
       "408      Delta    Economy Class    Family Leisure   December 2015   \n",
       "462      Delta    Economy Class    Couple Leisure   November 2015   \n",
       "478      Delta   Business Class    Couple Leisure   November 2015   \n",
       "519      Delta    Economy Class    Couple Leisure  September 2015   \n",
       "550      Delta      First Class          Business     August 2015   \n",
       "674      Delta    Economy Class           Unknown         Unknown   \n",
       "700      Delta    Economy Class           Unknown         Unknown   \n",
       "824      Delta      First Class           Unknown         Unknown   \n",
       "846      Delta      First Class           Unknown         Unknown   \n",
       "\n",
       "      Cabin Staff Service  Food & Beverages  Ground Service  \\\n",
       "1                       3                 1               2   \n",
       "187                     1                 0               4   \n",
       "230                     3                 2               2   \n",
       "252                     3                 1               3   \n",
       "397                     3                 3               2   \n",
       "436                     3                 3               2   \n",
       "677                     4                 1               2   \n",
       "844                     4                 1               2   \n",
       "900                     1                 1               5   \n",
       "1089                    3                 2               0   \n",
       "1090                    3                 2               0   \n",
       "1153                    0                 0               0   \n",
       "1342                    3                 1               0   \n",
       "1450                    2                 2               0   \n",
       "9                       1                 1               1   \n",
       "40                      1                 0               2   \n",
       "73                      1                 1               1   \n",
       "104                     3                 2               3   \n",
       "256                     3                 1               3   \n",
       "276                     3                 3               3   \n",
       "292                     2                 2               2   \n",
       "364                     2                 2               2   \n",
       "563                     2                 2               3   \n",
       "609                     1                 0               2   \n",
       "763                     0                 0               4   \n",
       "981                     1                 1               3   \n",
       "999                     1                 0               1   \n",
       "1043                    2                 1               2   \n",
       "1217                    3                 1               0   \n",
       "1279                    4                 1               0   \n",
       "1497                    1                 3               0   \n",
       "1572                    2                 2               0   \n",
       "1599                    3                 2               0   \n",
       "1620                    5                 1               0   \n",
       "23                      1                 0               1   \n",
       "59                      5                 0               1   \n",
       "77                      1                 3               2   \n",
       "153                     4                 0               1   \n",
       "181                     1                 3               2   \n",
       "271                     4                 0               3   \n",
       "363                     3                 0               3   \n",
       "408                     2                 2               3   \n",
       "462                     3                 0               3   \n",
       "478                     4                 4               4   \n",
       "519                     1                 0               2   \n",
       "550                     1                 2               4   \n",
       "674                     3                 0               0   \n",
       "700                     4                 0               0   \n",
       "824                     4                 1               0   \n",
       "846                     2                 2               0   \n",
       "\n",
       "      Inflight Entertainment  Rating  Value for Money  Seat Comfort  \\\n",
       "1                          2       4                2             1   \n",
       "187                        0       5                3             2   \n",
       "230                        4       5                3             2   \n",
       "252                        1       4                2             3   \n",
       "397                        4       5                2             3   \n",
       "436                        2       2                2             2   \n",
       "677                        5       5                2             2   \n",
       "844                        0       4                3             1   \n",
       "900                        1       4                3             2   \n",
       "1089                       0       7                0             3   \n",
       "1090                       0       7                0             3   \n",
       "1153                       0       7                0             0   \n",
       "1342                       1       5                3             3   \n",
       "1450                       1       2                3             1   \n",
       "9                          0       2                1             2   \n",
       "40                         4       5                3             4   \n",
       "73                         4       3                2             3   \n",
       "104                        2       4                3             1   \n",
       "256                        0       4                2             2   \n",
       "276                        0       2                2             2   \n",
       "292                        4       4                4             2   \n",
       "364                        3       4                2             2   \n",
       "563                        3       4                3             2   \n",
       "609                        5       3                3             5   \n",
       "763                        0       7                4             0   \n",
       "981                        3       6                3             3   \n",
       "999                        0       1                1             2   \n",
       "1043                       1       5                3             3   \n",
       "1217                       1       3                5             2   \n",
       "1279                       1       5                1             3   \n",
       "1497                       4       2                2             5   \n",
       "1572                       1       4                5             2   \n",
       "1599                       2       5                3             3   \n",
       "1620                       1       4                3             1   \n",
       "23                         5       1                1             1   \n",
       "59                         5       4                1             4   \n",
       "77                         4       5                3             3   \n",
       "153                        0       1                5             3   \n",
       "181                        4       4                4             3   \n",
       "271                        0       4                3             4   \n",
       "363                        0       4                3             4   \n",
       "408                        2       5                3             2   \n",
       "462                        4       4                2             1   \n",
       "478                        2       4                1             2   \n",
       "519                        0       4                1             1   \n",
       "550                        3       3                3             3   \n",
       "674                        0       5                3             3   \n",
       "700                        0       6                0             3   \n",
       "824                        0       2                3             1   \n",
       "846                        1       4                3             4   \n",
       "\n",
       "      Recommended  \n",
       "1            True  \n",
       "187          True  \n",
       "230          True  \n",
       "252          True  \n",
       "397          True  \n",
       "436          True  \n",
       "677          True  \n",
       "844          True  \n",
       "900          True  \n",
       "1089         True  \n",
       "1090         True  \n",
       "1153         True  \n",
       "1342         True  \n",
       "1450         True  \n",
       "9            True  \n",
       "40           True  \n",
       "73           True  \n",
       "104          True  \n",
       "256          True  \n",
       "276          True  \n",
       "292          True  \n",
       "364          True  \n",
       "563          True  \n",
       "609          True  \n",
       "763          True  \n",
       "981          True  \n",
       "999          True  \n",
       "1043         True  \n",
       "1217         True  \n",
       "1279         True  \n",
       "1497         True  \n",
       "1572         True  \n",
       "1599         True  \n",
       "1620         True  \n",
       "23           True  \n",
       "59           True  \n",
       "77           True  \n",
       "153          True  \n",
       "181          True  \n",
       "271          True  \n",
       "363          True  \n",
       "408          True  \n",
       "462          True  \n",
       "478          True  \n",
       "519          True  \n",
       "550          True  \n",
       "674          True  \n",
       "700          True  \n",
       "824          True  \n",
       "846          True  "
      ]
     },
     "execution_count": 62,
     "metadata": {},
     "output_type": "execute_result"
    }
   ],
   "source": [
    "dfAirline[~pred & dfAirline.Recommended]"
   ]
  },
  {
   "cell_type": "code",
   "execution_count": 63,
   "metadata": {
    "scrolled": true
   },
   "outputs": [
    {
     "data": {
      "text/html": [
       "<div>\n",
       "<style scoped>\n",
       "    .dataframe tbody tr th:only-of-type {\n",
       "        vertical-align: middle;\n",
       "    }\n",
       "\n",
       "    .dataframe tbody tr th {\n",
       "        vertical-align: top;\n",
       "    }\n",
       "\n",
       "    .dataframe thead th {\n",
       "        text-align: right;\n",
       "    }\n",
       "</style>\n",
       "<table border=\"1\" class=\"dataframe\">\n",
       "  <thead>\n",
       "    <tr style=\"text-align: right;\">\n",
       "      <th></th>\n",
       "      <th>Cabin Flown</th>\n",
       "      <th>Type of Traveller</th>\n",
       "      <th>Date Flown</th>\n",
       "      <th>Cabin Staff Service</th>\n",
       "      <th>Food &amp; Beverages</th>\n",
       "      <th>Ground Service</th>\n",
       "      <th>Inflight Entertainment</th>\n",
       "      <th>Rating</th>\n",
       "      <th>Value for Money</th>\n",
       "      <th>Seat Comfort</th>\n",
       "      <th>Recommended</th>\n",
       "    </tr>\n",
       "    <tr>\n",
       "      <th>Airline</th>\n",
       "      <th></th>\n",
       "      <th></th>\n",
       "      <th></th>\n",
       "      <th></th>\n",
       "      <th></th>\n",
       "      <th></th>\n",
       "      <th></th>\n",
       "      <th></th>\n",
       "      <th></th>\n",
       "      <th></th>\n",
       "      <th></th>\n",
       "    </tr>\n",
       "  </thead>\n",
       "  <tbody>\n",
       "    <tr>\n",
       "      <th>American</th>\n",
       "      <td>48</td>\n",
       "      <td>48</td>\n",
       "      <td>48</td>\n",
       "      <td>48</td>\n",
       "      <td>48</td>\n",
       "      <td>48</td>\n",
       "      <td>48</td>\n",
       "      <td>48</td>\n",
       "      <td>48</td>\n",
       "      <td>48</td>\n",
       "      <td>48</td>\n",
       "    </tr>\n",
       "    <tr>\n",
       "      <th>Delta</th>\n",
       "      <td>32</td>\n",
       "      <td>32</td>\n",
       "      <td>32</td>\n",
       "      <td>32</td>\n",
       "      <td>32</td>\n",
       "      <td>32</td>\n",
       "      <td>32</td>\n",
       "      <td>32</td>\n",
       "      <td>32</td>\n",
       "      <td>32</td>\n",
       "      <td>32</td>\n",
       "    </tr>\n",
       "    <tr>\n",
       "      <th>United</th>\n",
       "      <td>59</td>\n",
       "      <td>59</td>\n",
       "      <td>59</td>\n",
       "      <td>59</td>\n",
       "      <td>59</td>\n",
       "      <td>59</td>\n",
       "      <td>59</td>\n",
       "      <td>59</td>\n",
       "      <td>59</td>\n",
       "      <td>59</td>\n",
       "      <td>59</td>\n",
       "    </tr>\n",
       "  </tbody>\n",
       "</table>\n",
       "</div>"
      ],
      "text/plain": [
       "          Cabin Flown  Type of Traveller  Date Flown  Cabin Staff Service  \\\n",
       "Airline                                                                     \n",
       "American           48                 48          48                   48   \n",
       "Delta              32                 32          32                   32   \n",
       "United             59                 59          59                   59   \n",
       "\n",
       "          Food & Beverages  Ground Service  Inflight Entertainment  Rating  \\\n",
       "Airline                                                                      \n",
       "American                48              48                      48      48   \n",
       "Delta                   32              32                      32      32   \n",
       "United                  59              59                      59      59   \n",
       "\n",
       "          Value for Money  Seat Comfort  Recommended  \n",
       "Airline                                               \n",
       "American               48            48           48  \n",
       "Delta                  32            32           32  \n",
       "United                 59            59           59  "
      ]
     },
     "execution_count": 63,
     "metadata": {},
     "output_type": "execute_result"
    }
   ],
   "source": [
    "dfAirline[pred & ~dfAirline.Recommended].groupby('Airline').count()"
   ]
  },
  {
   "cell_type": "markdown",
   "metadata": {},
   "source": [
    "###### There are 139 total FNs. American has 48, Delta has 32, and United has 59."
   ]
  },
  {
   "cell_type": "markdown",
   "metadata": {},
   "source": [
    "#### Part 4: Validation\n",
    "\n",
    "- Use train/test split to train your prediction model.\n",
    "- Do you find any airline that has more predictive power in the recommendation decision than the others?"
   ]
  },
  {
   "cell_type": "code",
   "execution_count": 64,
   "metadata": {},
   "outputs": [
    {
     "data": {
      "text/plain": [
       "False    2900\n",
       "True     1316\n",
       "Name: Recommended, dtype: int64"
      ]
     },
     "execution_count": 64,
     "metadata": {},
     "output_type": "execute_result"
    }
   ],
   "source": [
    "from sklearn.neighbors import KNeighborsClassifier\n",
    "dfAirline.Recommended.value_counts()"
   ]
  },
  {
   "cell_type": "code",
   "execution_count": 65,
   "metadata": {},
   "outputs": [],
   "source": [
    "feature_cols = ['Cabin Staff Service','Food & Beverages','Ground Service','Inflight Entertainment','Value for Money','Seat Comfort']\n",
    "x = dfAirline[feature_cols]"
   ]
  },
  {
   "cell_type": "code",
   "execution_count": 66,
   "metadata": {},
   "outputs": [],
   "source": [
    "y = dfAirline.Recommended"
   ]
  },
  {
   "cell_type": "code",
   "execution_count": 67,
   "metadata": {},
   "outputs": [],
   "source": [
    "knn = KNeighborsClassifier(n_neighbors = 5)"
   ]
  },
  {
   "cell_type": "markdown",
   "metadata": {},
   "source": [
    "### Train/Test Model"
   ]
  },
  {
   "cell_type": "code",
   "execution_count": 68,
   "metadata": {},
   "outputs": [],
   "source": [
    "from sklearn.model_selection import train_test_split"
   ]
  },
  {
   "cell_type": "code",
   "execution_count": 69,
   "metadata": {},
   "outputs": [],
   "source": [
    "x_train, x_test, y_train, y_test = train_test_split(x, y, test_size = 0.05, random_state = 74)"
   ]
  },
  {
   "cell_type": "code",
   "execution_count": 70,
   "metadata": {},
   "outputs": [],
   "source": [
    "d = []\n",
    "for i in range(51):   #Loop tries n_neighbors at every value from 1 to 50\n",
    "    if i > 0:         #Outputs best accuracy result\n",
    "        knn = KNeighborsClassifier(n_neighbors = i)\n",
    "        knn.fit(x_train, y_train)\n",
    "        y_hat = knn.predict(x_test)\n",
    "        d.append(metrics.accuracy_score(y_test, y_hat))"
   ]
  },
  {
   "cell_type": "code",
   "execution_count": 71,
   "metadata": {},
   "outputs": [
    {
     "name": "stdout",
     "output_type": "stream",
     "text": [
      "Best accuracy set has n_neighbors = 7 \n",
      "Accuracy = 0.9715639810426541\n"
     ]
    }
   ],
   "source": [
    "Acc = max(d)\n",
    "bestAcc = d.index(max(d))\n",
    "print(\"Best accuracy set has n_neighbors =\", bestAcc, \"\\nAccuracy =\", Acc)"
   ]
  },
  {
   "cell_type": "code",
   "execution_count": 72,
   "metadata": {
    "scrolled": true
   },
   "outputs": [
    {
     "name": "stdout",
     "output_type": "stream",
     "text": [
      "             precision    recall  f1-score   support\n",
      "\n",
      "      False       0.97      0.97      0.97       143\n",
      "       True       0.93      0.94      0.93        68\n",
      "\n",
      "avg / total       0.96      0.96      0.96       211\n",
      " \n",
      " accuracy score =  0.957345971563981 \n",
      " confusion matrix =  [[138   5]\n",
      " [  4  64]]\n"
     ]
    }
   ],
   "source": [
    "knn = KNeighborsClassifier(n_neighbors = bestAcc)\n",
    "knn.fit(x_train, y_train)\n",
    "y_hat = knn.predict(x_test)\n",
    "d.append(metrics.accuracy_score(y_test, y_hat))\n",
    "print(metrics.classification_report(y_test, y_hat), \n",
    "        '\\n accuracy score = ',metrics.accuracy_score(y_test, y_hat), \n",
    "        '\\n confusion matrix = ',metrics.confusion_matrix(y_test, y_hat))"
   ]
  },
  {
   "cell_type": "markdown",
   "metadata": {},
   "source": [
    "###### 97.15% accuracy was the best found. This had KNeighbors of 7.\n",
    "###### KNeighbors from values 1 to 51 were tested. Various test sizes were tried, and 0.05 test size was the best."
   ]
  },
  {
   "cell_type": "markdown",
   "metadata": {},
   "source": [
    "###### The overall accuracy score was 95.73% which is very good. This is the ability to predict the customers' likelihood of recommending."
   ]
  },
  {
   "cell_type": "markdown",
   "metadata": {},
   "source": [
    "#### Part 5: Implications\n",
    "\n",
    "- Based on everything you've done with the data, what are the implications of your analysis of this data?"
   ]
  },
  {
   "cell_type": "markdown",
   "metadata": {},
   "source": [
    "###### Type of traveller does influence which airline you are more likely to enjoy."
   ]
  },
  {
   "cell_type": "markdown",
   "metadata": {},
   "source": [
    "###### Cabin flown does influence which airline you are more likely to enjoy."
   ]
  },
  {
   "cell_type": "markdown",
   "metadata": {},
   "source": [
    "###### The most important features when determining recommendation(and satisfaction with airline), appear to be Cabin Staff Service, Rating, Value for Money, and Seat Comfort."
   ]
  }
 ],
 "metadata": {
  "kernelspec": {
   "display_name": "Python 3",
   "language": "python",
   "name": "python3"
  },
  "language_info": {
   "codemirror_mode": {
    "name": "ipython",
    "version": 3
   },
   "file_extension": ".py",
   "mimetype": "text/x-python",
   "name": "python",
   "nbconvert_exporter": "python",
   "pygments_lexer": "ipython3",
   "version": "3.6.5"
  }
 },
 "nbformat": 4,
 "nbformat_minor": 2
}
