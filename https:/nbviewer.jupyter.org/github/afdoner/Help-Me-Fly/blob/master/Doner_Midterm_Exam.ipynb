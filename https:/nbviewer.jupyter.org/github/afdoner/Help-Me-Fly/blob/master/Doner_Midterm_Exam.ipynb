https://nbviewer.jupyter.org/github/afdoner/Help-Me-Fly/blob/master/Doner_Midterm_Exam.ipynb
